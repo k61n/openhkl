{
 "cells": [
  {
   "cell_type": "markdown",
   "metadata": {},
   "source": [
    "# Load the raw data\n",
    "\n",
    "1. Create new experiment > name it > Select BioDiff5000 from the drop-down menu\n",
    "2. Experiment tab > Data tab > click green + symbol > Add raw data > ctrl/shift-click all relevant .tiff files\n",
    "3. * Data arrangement = row major\n",
    "   * Data format = 16 bit integer\n",
    "   * Swap endian = true\n",
    "   * delta omega (angle stepping) = 0.32\n",
    "   * wavelength = 2.67\n",
    "   \n",
    "# Find peaks/integrate\n",
    "\n",
    "1. Find peaks tab > find peaks (takes some time)\n",
    "2. Find peaks tab > Integration parameters > integrate (takes some time)\n",
    "3. Find peaks tab > View and save > save\n",
    "\n",
    "# Filter peaks\n",
    "\n",
    "1. Peak filter tab > strength > adjust limits \n",
    "2. Peak filter tab > d range > adjust limits\n",
    "3. Peak filter tab > filter\n",
    "4. Peak filter tab > save\n",
    "\n",
    "# Indexer (find unit cell)\n",
    "1. Indexer > make sure correct experiment and data set are selected\n",
    "2. Indexer > Find unit cells. This works for trypsin, but not for strep."
   ]
  },
  {
   "cell_type": "code",
   "execution_count": null,
   "metadata": {},
   "outputs": [],
   "source": []
  }
 ],
 "metadata": {
  "kernelspec": {
   "display_name": "Python 3",
   "language": "python",
   "name": "python3"
  },
  "language_info": {
   "codemirror_mode": {
    "name": "ipython",
    "version": 3
   },
   "file_extension": ".py",
   "mimetype": "text/x-python",
   "name": "python",
   "nbconvert_exporter": "python",
   "pygments_lexer": "ipython3",
   "version": "3.8.1"
  }
 },
 "nbformat": 4,
 "nbformat_minor": 4
}

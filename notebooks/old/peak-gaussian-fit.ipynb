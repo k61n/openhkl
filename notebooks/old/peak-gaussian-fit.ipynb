{
 "cells": [
  {
   "cell_type": "code",
   "execution_count": 1,
   "metadata": {
    "collapsed": true
   },
   "outputs": [],
   "source": [
    "import pynsx as nsx\n",
    "import math\n",
    "import numpy as np\n",
    "from matplotlib import pyplot as plt\n",
    "from os import path"
   ]
  },
  {
   "cell_type": "code",
   "execution_count": 2,
   "metadata": {
    "collapsed": true
   },
   "outputs": [],
   "source": [
    "expt = nsx.Experiment('test', 'BioDiff2500')\n",
    "diff = expt.getDiffractometer()\n",
    "filename = path.expanduser(\"~/data/biodiff/p11202.hdf\")\n",
    "reader = nsx.HDF5DataReader(filename, diff)\n",
    "data = nsx.DataSet(reader, diff)\n",
    "expt.addData(data)"
   ]
  },
  {
   "cell_type": "code",
   "execution_count": 36,
   "metadata": {},
   "outputs": [
    {
     "name": "stdout",
     "output_type": "stream",
     "text": [
      "9200\n"
     ]
    }
   ],
   "source": [
    "kernel = nsx.AnnularKernel(data.nRows(), data.nCols())\n",
    "convolver = nsx.Convolver()\n",
    "convolver.setKernel(kernel.matrix())\n",
    "\n",
    "finder = nsx.PeakFinder()\n",
    "finder.setConvolver(convolver)\n",
    "finder.setMinComponents(30)\n",
    "finder.setMaxComponents(10000)\n",
    "finder.setIntegrationScale(3.0)\n",
    "finder.setBackgroundScale(5.0)\n",
    "finder.setSearchScale(1.0)\n",
    "finder.setThresholdType(1)\n",
    "finder.setThresholdValue(80.0)\n",
    "finder.setKernel(kernel)\n",
    "\n",
    "peaks = finder.find([data])\n",
    "print(len(peaks))"
   ]
  },
  {
   "cell_type": "code",
   "execution_count": 37,
   "metadata": {
    "collapsed": true
   },
   "outputs": [],
   "source": [
    "for peak in peaks:\n",
    "    peak.setSelected(True)"
   ]
  },
  {
   "cell_type": "code",
   "execution_count": 38,
   "metadata": {},
   "outputs": [
    {
     "name": "stdout",
     "output_type": "stream",
     "text": [
      "7573\n"
     ]
    }
   ],
   "source": [
    "# clean up peaks\n",
    "good_peaks = []\n",
    "\n",
    "for peak in peaks:\n",
    "    I = peak.correctedIntensity().value()\n",
    "    \n",
    "    # keep only selected peaks\n",
    "    if not peak.isSelected():\n",
    "        continue\n",
    "    \n",
    "    # keep only strong peaks for autoindex\n",
    "    if I < 1000.0:\n",
    "        continue\n",
    "        \n",
    "    d = 1.0 / np.linalg.norm(peak.q().rowVector())\n",
    "    \n",
    "    # keep peaks only in specified d range\n",
    "    if d > 40.0 or d < 1.8:\n",
    "        continue\n",
    "        \n",
    "    good_peaks.append(peak)\n",
    "    \n",
    "print(len(good_peaks))"
   ]
  },
  {
   "cell_type": "code",
   "execution_count": 39,
   "metadata": {},
   "outputs": [
    {
     "name": "stdout",
     "output_type": "stream",
     "text": [
      "done\n"
     ]
    }
   ],
   "source": [
    "class GaussianIntegrator(nsx.IPeakIntegrator):\n",
    "    def __init__(self):\n",
    "        nsx.IPeakIntegrator.__init__(self)\n",
    "        self.data = []\n",
    "        \n",
    "    def compute(self, peak, region):\n",
    "        #s = nsx.StrongPeakIntegrator()\n",
    "        #s.compute(peak, region)\n",
    "        #self._integratedIntensity = s._integratedIntensity\n",
    "        #self._meanBackground = s._meanBackground\n",
    "        self.data.append((peak, nsx.PeakData(region.peakData())))\n",
    "        return True\n",
    "    \n",
    "peak_list = nsx.PeakList()\n",
    "\n",
    "for p in good_peaks:\n",
    "    peak_list.push_back(p)\n",
    "        \n",
    "g = GaussianIntegrator()\n",
    "g.integrate(peak_list, data, 3.0, 4.0, 6.0)\n",
    "print(\"done\")"
   ]
  },
  {
   "cell_type": "code",
   "execution_count": 7,
   "metadata": {},
   "outputs": [
    {
     "data": {
      "text/plain": [
       "6"
      ]
     },
     "execution_count": 7,
     "metadata": {},
     "output_type": "execute_result"
    }
   ],
   "source": [
    "6"
   ]
  },
  {
   "cell_type": "code",
   "execution_count": 41,
   "metadata": {},
   "outputs": [
    {
     "name": "stdout",
     "output_type": "stream",
     "text": [
      "done\n"
     ]
    }
   ],
   "source": [
    "import random\n",
    "\n",
    "N = len(g.data)\n",
    "\n",
    "ps = []\n",
    "cs = []\n",
    "qs = []\n",
    "ss = []\n",
    "rs = []\n",
    "\n",
    "obs_centers = []\n",
    "fit_centers = []\n",
    "\n",
    "for i in range(N):\n",
    "    if not p.isSelected():\n",
    "        continue\n",
    "    \n",
    "    \n",
    "    p, d = g.data[i]\n",
    "    \n",
    "    xs = [ ev._px for ev in d.events()]\n",
    "    ys = [ ev._py for ev in d.events()]\n",
    "    zs = [ ev._frame for ev in d.events()]\n",
    "    Is = [ c for c in d.counts() ]\n",
    "\n",
    "    #plt.scatter(qs, Is)\n",
    "    #plt.show()\n",
    "\n",
    "    #plt.scatter(xs, Is)\n",
    "    #plt.show()\n",
    "\n",
    "    #plt.scatter(ys, Is)\n",
    "    #plt.show()\n",
    "\n",
    "    #plt.scatter(zs, Is)\n",
    "    #plt.show()\n",
    "\n",
    "    xs = np.array(xs)\n",
    "    ys = np.array(ys)\n",
    "    zs = np.array(zs)\n",
    "    Is = np.array(Is)\n",
    "\n",
    "\n",
    "    profile = nsx.Gaussian3d(sum(Is)/len(Is), max(Is), p.getShape().center(), p.getShape().inverseMetric())\n",
    "    success = profile.fit(xs, ys, zs, Is, 500)\n",
    "    \n",
    "    ss.append(1 if success else 0)\n",
    "    \n",
    "    qs.append(np.linalg.norm(p.q().rowVector()))\n",
    "    ps.append(profile.pearson(xs, ys, zs, Is))\n",
    "    \n",
    "    obs = p.getShape().inverseMetric()\n",
    "    pred = profile.covariance()\n",
    "    \n",
    "    cc = obs.transpose().dot(pred).trace() / np.linalg.norm(obs) / np.linalg.norm(pred)\n",
    "    cs.append(cc)\n",
    "    \n",
    "    obs_centers.append(p.getShape().center())\n",
    "    fit_centers.append(profile._center)\n",
    "    \n",
    "    if cc > 0.6:\n",
    "        peak.setShape(nsx.Ellipsoid(profile._center, np.linalg.inv(profile.covariance())))\n",
    "    else:\n",
    "        peak.setSelected(False);\n",
    "    \n",
    "    if (i%200 == 0):\n",
    "        print(i)\n",
    "        \n",
    "    rs.append(p.correctedIntensity().value())\n",
    "    \n",
    "\n",
    "        \n",
    "print(\"done\")"
   ]
  },
  {
   "cell_type": "code",
   "execution_count": 30,
   "metadata": {},
   "outputs": [
    {
     "data": {
      "image/png": "[encoded data removed]",
      "text/plain": [
       "<matplotlib.figure.Figure at 0x7fbd423b69e8>"
      ]
     },
     "metadata": {},
     "output_type": "display_data"
    },
    {
     "data": {
      "image/png": "[encoded data removed]",
      "text/plain": [
       "<matplotlib.figure.Figure at 0x7fbd44a5ae10>"
      ]
     },
     "metadata": {},
     "output_type": "display_data"
    },
    {
     "data": {
      "image/png": "[encoded data removed]",
      "text/plain": [
       "<matplotlib.figure.Figure at 0x7fbd4206a438>"
      ]
     },
     "metadata": {},
     "output_type": "display_data"
    },
    {
     "data": {
      "image/png": "[encoded data removed]",
      "text/plain": [
       "<matplotlib.figure.Figure at 0x7fbd41a985c0>"
      ]
     },
     "metadata": {},
     "output_type": "display_data"
    },
    {
     "data": {
      "image/png": "[encoded data removed]",
      "text/plain": [
       "<matplotlib.figure.Figure at 0x7fbd41ecf470>"
      ]
     },
     "metadata": {},
     "output_type": "display_data"
    },
    {
     "data": {
      "image/png": "[encoded data removed]",
      "text/plain": [
       "<matplotlib.figure.Figure at 0x7fbd41a77ef0>"
      ]
     },
     "metadata": {},
     "output_type": "display_data"
    }
   ],
   "source": [
    "plt.scatter(qs, ps)\n",
    "plt.show()\n",
    "\n",
    "plt.scatter(qs, ss)\n",
    "plt.show()\n",
    "\n",
    "plt.scatter(ps, ss)\n",
    "plt.show()\n",
    "\n",
    "plt.scatter(ps, cs)\n",
    "plt.show()\n",
    "\n",
    "\n",
    "plt.scatter(ps, rs)\n",
    "plt.show()\n",
    "\n",
    "plt.scatter(ps, [np.linalg.norm(obs_centers[i]-fit_centers[i]) for i in range(len(qs))])\n",
    "plt.ylim(0,10)\n",
    "plt.show()"
   ]
  },
  {
   "cell_type": "code",
   "execution_count": 24,
   "metadata": {},
   "outputs": [
    {
     "data": {
      "text/plain": [
       "0.9896317958261331"
      ]
     },
     "execution_count": 24,
     "metadata": {},
     "output_type": "execute_result"
    }
   ],
   "source": [
    "sum(ss) / len(ss)"
   ]
  },
  {
   "cell_type": "code",
   "execution_count": null,
   "metadata": {
    "collapsed": true
   },
   "outputs": [],
   "source": [
    "indexer = nsx.AutoIndexer(nsx.ProgressHandler())\n",
    "\n",
    "for peak in good_peaks:\n",
    "    indexer.addPeak(peak)\n",
    "\n",
    "print(\"auto indexing\", len(good_peaks), \"peaks\")\n",
    "        \n",
    "params = nsx.IndexerParameters()\n",
    "handler = nsx.ProgressHandler()\n",
    "indexer.autoIndex(params)\n",
    "\n",
    "soln = indexer.getSolutions()[0]\n",
    "assert(soln[1] > 92.0)\n",
    "\n",
    "uc = nsx.UnitCell(soln[0])\n",
    "sample = diff.sample()\n",
    "sample.addUnitCell(uc)\n",
    "\n",
    "indexed_peaks = []\n",
    "\n",
    "for peak in good_peaks:\n",
    "    hkl = nsx.MillerIndex(peak.q(), uc)\n",
    "    if np.linalg.norm(hkl.error()) < 0.2:\n",
    "        peak.addUnitCell(uc, True)\n",
    "        indexed_peaks.append(peak)\n",
    "    \n",
    "ch = uc.character()\n",
    "print(\"indexed\", len(indexed_peaks), \"of\", len(good_peaks))\n",
    "print(\"found unit cell with parameters: \")\n",
    "print(\"a: \", ch.a)\n",
    "print(\"b: \", ch.b)\n",
    "print(\"c: \", ch.c)\n",
    "print(\"alpha: \", ch.alpha)\n",
    "print(\"beta: \", ch.beta)\n",
    "print(\"gamma: \", ch.gamma)"
   ]
  },
  {
   "cell_type": "code",
   "execution_count": null,
   "metadata": {
    "collapsed": true
   },
   "outputs": [],
   "source": [
    "nbatches = int(data.nFrames() / 5)\n",
    "#nbatches = 1\n",
    "states = data.instrumentStates()\n",
    "\n",
    "refiner = nsx.Refiner(uc, indexed_peaks, nbatches)\n",
    "\n",
    "refiner.refineSamplePosition(states)\n",
    "refiner.refineKi(states)\n",
    "refiner.refineSampleOrientation(states)\n",
    "#refiner.refineU()\n",
    "refiner.refineB()\n",
    "\n",
    "success = refiner.refine(200)\n",
    "\n",
    "print(\"refinement successful:\", success)"
   ]
  },
  {
   "cell_type": "code",
   "execution_count": null,
   "metadata": {
    "collapsed": true
   },
   "outputs": [],
   "source": [
    "def find_batch(peak, batches):\n",
    "    z = peak.getShape().center()[2,0]\n",
    "    \n",
    "    for b in batches:\n",
    "        if b.contains(z):\n",
    "            return b\n",
    "        \n",
    "    return None\n",
    "\n",
    "def reindex(peak_list, batches):          \n",
    "    new_peaks = []\n",
    "    \n",
    "    for peak in peak_list:\n",
    "        \n",
    "        batch = find_batch(peak, batches)\n",
    "        \n",
    "        if batch is None:\n",
    "            continue\n",
    "        \n",
    "        hkl = np.array([[0.,0.,0.]])\n",
    "        uc = batch.cell()\n",
    "        \n",
    "        if nsx.MillerIndex(peak.q(), uc).indexed(0.2):\n",
    "            peak.addUnitCell(uc, True)\n",
    "            new_peaks.append(peak)\n",
    "            \n",
    "    return new_peaks\n",
    "\n",
    "refined_peaks = reindex(indexed_peaks, refiner.batches())"
   ]
  },
  {
   "cell_type": "code",
   "execution_count": null,
   "metadata": {
    "collapsed": true
   },
   "outputs": [],
   "source": [
    "fit_data = []\n",
    "standard_fit_data = []\n",
    "\n",
    "#begin_frame = 50\n",
    "#end_frame = begin_frame+5\n",
    "\n",
    "begin_frame = 0\n",
    "end_frame = begin_frame+400\n",
    "\n",
    "class FitData:\n",
    "    def __init__(self, peak):\n",
    "        self.valid = False\n",
    "        cov = peak.qShape().inverseMetric()\n",
    "        cov = 0.5*(cov + cov.transpose())\n",
    "        \n",
    "\n",
    "        if np.isnan(np.linalg.norm(cov)):\n",
    "            return\n",
    "\n",
    "        C = np.linalg.cond(cov)    \n",
    "        if np.isnan(C) or C > 1e4:\n",
    "            return\n",
    "\n",
    "        w, u = np.linalg.eig(cov)\n",
    "\n",
    "        if min(w) < 0:\n",
    "            return\n",
    "\n",
    "        detector = peak.data().diffractometer().detector()\n",
    "        center = peak.getShape().center()\n",
    "\n",
    "        frame = center[2,0]\n",
    "\n",
    "        if (frame < begin_frame):\n",
    "            return\n",
    "        \n",
    "        if (frame > end_frame):\n",
    "            return\n",
    "\n",
    "        state = peak.data().interpolatedState(frame)\n",
    "\n",
    "        Jd = state.jacobianQ(nsx.DetectorEvent(center))\n",
    "\n",
    "        px = center[0,0]\n",
    "        py = center[1,0]\n",
    "\n",
    "        p = detector.pixelPosition(px, py).vector()\n",
    "        p0 = state.samplePosition\n",
    "\n",
    "        r = np.linalg.norm(p-p0)\n",
    "        dp = p-p0\n",
    "\n",
    "        Jp = -1/r*np.identity(3) + 1/r**3 * dp.dot(dp.transpose())\n",
    "\n",
    "        rot = state.sampleOrientationMatrix()\n",
    "        ki = state.ki().rowVector()\n",
    "        qLab = peak.qPredicted().rowVector().dot(rot.transpose())\n",
    "        kf = qLab + ki\n",
    "        kf /= np.linalg.norm(kf)\n",
    "        kf *= np.linalg.norm(ki)\n",
    "\n",
    "        Jk = kf.transpose().dot(ki) / np.linalg.norm(ki)**2 - np.identity(3)\n",
    "\n",
    "        q = qLab.reshape(3,1)\n",
    "        #A = -2*q*q.transpose() / np.linalg.norm(q)**2\n",
    "\n",
    "        axis = state.axis.reshape(3)\n",
    "        qdot = np.cross(axis,q.reshape(3)).reshape(3,1) \n",
    "        \n",
    "             \n",
    "        self.det_icov = peak.getShape().metric()\n",
    "        self.cov = cov\n",
    "        self.R = rot.transpose()\n",
    "        self.Jk = Jk\n",
    "        self.Jp = Jp\n",
    "        self.Jd = Jd\n",
    "        self.ki = ki\n",
    "        self.kf = kf\n",
    "        self.q = kf-ki\n",
    "        self.qdot = qdot\n",
    "        self.stepsize = state.stepSize\n",
    "        self.state = state\n",
    "        self.axis = state.axis\n",
    "        self.valid = True\n",
    "        self.center = peak.getShape().center()\n",
    "        \n",
    "        \n",
    "        A2 = self.det_icov[:2, :2]\n",
    "        b2 = self.det_icov[:2,2]\n",
    "        self.vdet = np.zeros((3,1), dtype=np.float)\n",
    "        self.vdet[:2,0] = -np.linalg.inv(A2).dot(b2)\n",
    "        self.vdet[2,0] = 1\n",
    "\n",
    "\n",
    "for peak in refined_peaks:    \n",
    "    ft = FitData(peak)\n",
    "    \n",
    "    if ft.valid:\n",
    "        fit_data.append(ft)\n",
    "\n",
    "print(len(fit_data))"
   ]
  },
  {
   "cell_type": "code",
   "execution_count": null,
   "metadata": {
    "collapsed": true
   },
   "outputs": [],
   "source": [
    "#d, = random.sample(fit_data, 1)\n",
    "\n",
    "kf = d.kf\n",
    "ki = d.ki\n",
    "R = d.R\n",
    "q = kf-ki\n",
    "Jd = d.Jd\n",
    "\n",
    "d.vdet\n",
    "\n",
    "\n",
    "print(\"vdet:\", d.vdet.transpose())\n",
    "\n",
    "w = d.qdot * d.state.stepSize\n",
    "\n",
    "v = d.R.transpose().dot(d.Jd.dot(d.vdet))\n",
    "\n",
    "#print(kf.dot(R.transpose().dot(Jd)))\n",
    "\n",
    "#print(kf)\n",
    "\n",
    "print(\"axis\", d.state.axis.transpose())\n",
    "print(\"qdot\", d.qdot.transpose())\n",
    "print(\"last col J:\", (R.transpose().dot(Jd))[:,2].transpose()/d.state.stepSize)\n",
    "print(\"kf J:\", kf.dot(R.transpose().dot(Jd)))\n",
    "\n",
    "print(\"ki:\", ki)\n",
    "print(\"kf:\", kf)\n",
    "print(\"q:\", q)\n",
    "\n",
    "print(\"v:\", v.transpose())\n",
    "print(\"w:\", w.transpose())\n",
    "\n",
    "print(\"|v|\", np.linalg.norm(v))\n",
    "print(\"|w|\", np.linalg.norm(w))\n",
    "\n",
    "Rw = R.dot(w)\n",
    "Dw = np.linalg.inv(Jd).dot(Rw)\n",
    "\n",
    "print(\"Dw\", Dw.transpose())\n",
    "\n",
    "if True:\n",
    "    for z in range(int(d.center[2,0]-4), int(d.center[2,0]+4)):\n",
    "        y = int(round(d.center[1,0]))\n",
    "        x = int(round(d.center[0,0]))\n",
    "        image = data.frame(z)[y-5:y+5, x-5:x+5]\n",
    "        plt.imshow(image)\n",
    "        plt.show()\n"
   ]
  },
  {
   "cell_type": "code",
   "execution_count": null,
   "metadata": {
    "collapsed": true
   },
   "outputs": [],
   "source": [
    "from scipy.optimize import least_squares\n",
    "\n",
    "def new_predict(d, x):\n",
    "    deg = np.pi / 180    \n",
    "    \n",
    "    sigmaD = x[0] * deg\n",
    "    sigmaE = x[1]\n",
    "    sigmaM = x[2] * deg\n",
    "    sigmaA = x[3] \n",
    "    sigmaB = x[4]\n",
    "    sigmaC = x[5]\n",
    "    \n",
    "    v = d.qdot.reshape(3,1)\n",
    "    \n",
    "    R = d.R\n",
    "    kf = d.kf.reshape(3,1)\n",
    "    ki = d.ki.reshape(3,1)  \n",
    "    q = kf-ki\n",
    "    n = q / np.linalg.norm(q)\n",
    "    \n",
    "    nnt = n.dot(n.transpose())\n",
    "    nkt = n.dot(ki.transpose())\n",
    "    nk = nkt.trace()\n",
    "    \n",
    "    I = np.identity(3)\n",
    "    NK = nk*I + nkt   \n",
    "    \n",
    "    Jp = d.Jp\n",
    "        \n",
    "    # mosaicity term\n",
    "    #SigN = sigmaM**2 * (I - n.dot(n.transpose()))\n",
    "    \n",
    "    # beam divergence term\n",
    "    SigD = sigmaD * (np.linalg.norm(kf)**2 * I - kf.dot(kf.transpose()))\n",
    "    SigD += sigmaE * kf.dot(kf.transpose())\n",
    "    \n",
    "    Sig = np.zeros((3,3), dtype=np.float)\n",
    "    \n",
    "    #Sig += 4 * NK.dot(SigN).dot(NK.transpose())\n",
    "    Sig += SigD\n",
    "    #Sig += sigmaA**2 * q.dot(q.transpose())\n",
    "    \n",
    "    #Sig += sigmaA * (kf.dot(ki.transpose()) + ki.dot(kf.transpose()))\n",
    "    #Sig += sigmaB * ki.dot(ki.transpose())\n",
    "    \n",
    "    Sig += sigmaM * (np.linalg.norm(q)**2 * I - q.dot(q.transpose()))\n",
    "    #Sig = sigmaM * (np.linalg.norm(q)**2 )# I - q.dot(q.transpose()))\n",
    "    \n",
    "    Sig += sigmaA * ki.dot(ki.transpose())\n",
    "    \n",
    "    Sig += sigmaB * (ki.dot(kf.transpose()) + kf.dot(ki.transpose()))\n",
    "    \n",
    "    Sig += sigmaC * v.dot(v.transpose())\n",
    "    \n",
    "    #Sig += sigmaC * np.identity(3)\n",
    "    \n",
    "    #Sig += sigmaA0**2 * q.dot(q.transpose()) / np.linalg.norm(q)**2\n",
    "    #Sig += sigmaM0**2 * (np.linalg.norm(q)**2 * I - q.dot(q.transpose())) / np.linalg.norm(q)**2\n",
    "            \n",
    "    pred = R.dot(Sig).dot(R.transpose())\n",
    "    \n",
    "    return pred\n",
    "\n",
    "\n",
    "#new_predict(random.sample(fit_data, 1)[0], result.x)"
   ]
  },
  {
   "cell_type": "code",
   "execution_count": null,
   "metadata": {
    "collapsed": true
   },
   "outputs": [],
   "source": [
    "def new_residual(x):\n",
    "    r = []\n",
    "    \n",
    "    for d in fit_data:\n",
    "        pred = new_predict(d, x)     \n",
    "        #r.extend((icov-pred).flatten())\n",
    "        r.extend((d.cov-pred).flatten())\n",
    "    \n",
    "    return r\n",
    "\n",
    "#x0 =   1.52786047e-03,  4.46037216e-05, 3.46386731e-04, -2.95699391e-05, 1.73883536e-05, 1e-5\n",
    "x0 = [ x for x in result.x[:4]]\n",
    "x0.append(1e-3)\n",
    "x0.append(1e-3)\n",
    "\n",
    "#result = least_squares(new_residual, [sigmaD, sigmaM, sigma0])\n",
    "result = least_squares(new_residual, x0, max_nfev=20, verbose=2)\n",
    "\n",
    "print(result)\n"
   ]
  },
  {
   "cell_type": "code",
   "execution_count": null,
   "metadata": {
    "collapsed": true
   },
   "outputs": [],
   "source": [
    "J = result.jac\n",
    "JTJ = J.transpose().dot(J)\n",
    "plt.imshow(JTJ)\n",
    "plt.show()\n",
    "#####\n",
    "JTJ\n",
    "\n",
    "m, n = JTJ.shape\n",
    "\n",
    "for i in range(m):\n",
    "    for j in range(i+1, n):\n",
    "        print(i, j, JTJ[i,j] / np.sqrt(JTJ[i,i]) / np.sqrt(JTJ[j,j]))\n",
    "        \n",
    "w, u = np.linalg.eig(JTJ)\n",
    "print(w)\n",
    "u0 = u[:, np.argmax(w)]\n",
    "print(np.linalg.norm(u0))\n",
    "print(u[:, np.argmax(w)])\n"
   ]
  },
  {
   "cell_type": "code",
   "execution_count": null,
   "metadata": {
    "collapsed": true
   },
   "outputs": [],
   "source": [
    "def pearson(a,b):\n",
    "    return a.transpose().dot(b).trace() / np.linalg.norm(a) / np.linalg.norm(b)\n",
    "\n",
    "qs = []\n",
    "xs = []\n",
    "ys = []\n",
    "zs = []\n",
    "pearsons = []\n",
    "\n",
    "for d in fit_data:\n",
    "    obs = d.cov\n",
    "    pred = new_predict(d, result.x)\n",
    "    qs.append(np.linalg.norm(d.kf-d.ki))\n",
    "    pearsons.append(pearson(obs,pred))\n",
    "    xs.append(d.center[0,0])\n",
    "    ys.append(d.center[1,0])\n",
    "    zs.append(d.center[2,0])\n",
    "    \n",
    "print(\"mean pearson:\", sum(pearsons)/len(pearsons))\n",
    "    \n",
    "plt.scatter(qs, pearsons)\n",
    "plt.show()\n",
    "\n",
    "plt.scatter(xs, pearsons)\n",
    "plt.show()\n",
    "\n",
    "plt.scatter(ys, pearsons)\n",
    "plt.show()\n",
    "\n",
    "plt.scatter(zs, pearsons)\n",
    "plt.show()\n"
   ]
  },
  {
   "cell_type": "code",
   "execution_count": null,
   "metadata": {
    "collapsed": true
   },
   "outputs": [],
   "source": [
    "\n",
    "qs = []\n",
    "xs = []\n",
    "ys = []\n",
    "zs = []\n",
    "pearsons = []\n",
    "\n",
    "for d in fit_data:\n",
    "    obs = d.cov\n",
    "    pred = new_predict(d, result.x)\n",
    "    rho = pearson(obs,pred)\n",
    "    \n",
    "    if (rho > 0.96):\n",
    "        continue\n",
    "    \n",
    "    qs.append(np.linalg.norm(d.kf-d.ki))\n",
    "    pearsons.append(pearson(obs,pred))\n",
    "    xs.append(d.center[0,0])\n",
    "    ys.append(d.center[1,0])\n",
    "    zs.append(d.center[2,0])\n",
    "    \n",
    "print(\"mean pearson:\", sum(pearsons)/len(pearsons))\n",
    "    \n",
    "plt.scatter(xs, ys)\n",
    "plt.show()\n"
   ]
  },
  {
   "cell_type": "code",
   "execution_count": null,
   "metadata": {
    "collapsed": true
   },
   "outputs": [],
   "source": [
    "\n",
    "import random\n",
    "d= random.sample(fit_data, 1)[0]\n",
    "\n",
    "obs = d.cov\n",
    "plt.imshow(obs)\n",
    "plt.show()\n",
    "w, _ = np.linalg.eig(obs)\n",
    "print(w)\n",
    "\n",
    "pred = new_predict(d, result.x)\n",
    "plt.imshow(pred)\n",
    "plt.show()\n",
    "w, _ = np.linalg.eig(pred)\n",
    "print(w)"
   ]
  },
  {
   "cell_type": "code",
   "execution_count": null,
   "metadata": {
    "collapsed": true
   },
   "outputs": [],
   "source": [
    "d = random.sample(fit_data, 1)[0]\n",
    "\n",
    "J = d.Jd\n",
    "JI = np.linalg.inv(J)\n",
    "R = d.R.transpose()\n",
    "\n",
    "A = JI.transpose().dot(d.det_icov).dot(JI)\n",
    "A = R.dot(A).dot(R.transpose())\n",
    "\n",
    "#e1 = np.cross(d.kf, d.ki)\n",
    "#e2 = np.cross(d.kf, e1)\n",
    "\n",
    "#e1 /= np.linalg.norm(e1) / np.linalg.norm(d.kf)\n",
    "#e2 /= np.linalg.norm(e2) / np.linalg.norm(d.kf)\n",
    "L = abs(d.qdot.dot(d.kf).trace() / np.linalg.norm(d.qdot) / np.linalg.norm(d.kf))\n",
    "#e3 = d.qdot * np.linalg.norm(d.q) / np.linalg.norm(d.qdot)\n",
    "#e3 = np.cross(d.q, e1)\n",
    "\n",
    "e1 = np.cross(d.kf.reshape(3), d.qdot.reshape(3))\n",
    "e2 = np.cross(d.kf, e1)\n",
    "e1 /= np.linalg.norm(e1)\n",
    "e2 /= np.linalg.norm(e2)\n",
    "\n",
    "e3 = d.qdot / np.linalg.norm(q) #/ np.linalg.norm(d.qdot)#/ (np.linalg.norm(d.q) * L)\n",
    "#e3 = np.cross(d.q, e1) / np.linalg.norm(q)\n",
    "\n",
    "B = np.array([e1.reshape(3), e2.reshape(3), e3.reshape(3)]).transpose()\n",
    "#BI = np.linalg.inv(B)\n",
    "BT = B.transpose()\n",
    "\n",
    "A = BT.dot(A).dot(B)\n",
    "\n",
    "w, u = np.linalg.eig(np.linalg.inv(A))\n",
    "#print(w)\n",
    "print(np.sqrt(w) / np.pi * 180)\n",
    "print(u)\n",
    "\n",
    "plt.imshow(A)\n",
    "plt.show()"
   ]
  },
  {
   "cell_type": "code",
   "execution_count": null,
   "metadata": {
    "collapsed": true
   },
   "outputs": [],
   "source": [
    "L"
   ]
  },
  {
   "cell_type": "code",
   "execution_count": null,
   "metadata": {
    "collapsed": true
   },
   "outputs": [],
   "source": [
    "from scipy.optimize import least_squares\n",
    "\n",
    "class ShapeModel:\n",
    "    def __init__(self):\n",
    "        # crystal mosaicity\n",
    "        self.mos = np.zeros((3,3), dtype=np.float)\n",
    "        # beam divergence\n",
    "        self.div = np.zeros((3,3), dtype=np.float)\n",
    "        # crystal shape\n",
    "        self.shape = np.zeros((3,3), dtype=np.float)\n",
    "        # cross term between scattering point and divergence\n",
    "        self.div_cross = np.zeros((3,3), dtype=np.float)\n",
    "        # detector bleeding\n",
    "        self.bleed = np.zeros((3,3), dtype=np.float)\n",
    "        # cross term mosaicity and scattering point\n",
    "        self.mos_cross = np.zeros((3,3), dtype=np.float)\n",
    "        \n",
    "    def encode(self):\n",
    "        return np.concatenate(\n",
    "            [self.mos.flatten(), \n",
    "            self.div.flatten(), \n",
    "            self.shape.flatten()])#,             \n",
    "            #self.div_cross.flatten(),           \n",
    "            #self.bleed.flatten(),\n",
    "            #self.mos_cross.flatten()])\n",
    "        #])\n",
    "    \n",
    "    def decode(self, x):\n",
    "        sym = lambda x: 0.5*(x+x.transpose())\n",
    "        self.mos = x[:9].reshape(3,3)\n",
    "        self.div = x[9:18].reshape(3,3)\n",
    "        self.shape = x[18:27].reshape(3,3)\n",
    "        #self.div_cross = x[27:36].reshape(3,3)\n",
    "        #self.bleed = sym(x[36:45].reshape(3,3))\n",
    "        #self.mos_cross = sym(x[45:].reshape(3,3))\n",
    "            \n",
    "        #self.mos = x[0]\n",
    "        #self.div = x[1]\n",
    "        #self.shape = sym(x[2:11].reshape(3,3))\n",
    "        #self.cov = x[11:20].reshape(3,3)\n",
    "        \n",
    "    def scatter_cov(self):\n",
    "        big_cov = np.zeros((9,9), dtype=np.float)\n",
    "        big_cov[:3, :3] = self.mos\n",
    "        big_cov[3:6, 3:6] = self.div\n",
    "        big_cov[6:9, 6:9] = self.shape\n",
    "        \n",
    "        big_cov[:3, 3:6] = self.mos_cross\n",
    "        big_cov[3:6, :3] = self.mos_cross.transpose()\n",
    "        \n",
    "        big_cov[3:6, 6:9] = self.div_cross\n",
    "        big_cov[6:9, 3:6] = self.div_cross.transpose()\n",
    "        \n",
    "        return big_cov\n",
    "            \n",
    "        \n",
    "    def predict(self, data):\n",
    "        q = data.kf-data.ki      \n",
    "        kf = data.kf  \n",
    "       \n",
    "        R = data.R\n",
    "        Pq = np.identity(3) - q.dot(q.transpose()) / np.linalg.norm(q)**2\n",
    "        Pk = np.identity(3) - kf.dot(kf.transpose()) / np.linalg.norm(kf)**2\n",
    "                \n",
    "        M = self.mos.dot(self.mos.transpose())\n",
    "        M = R.transpose().dot(M).dot(R)\n",
    "        \n",
    "        cov = np.linalg.norm(q)**2 * Pq.dot(M).dot(Pq)\n",
    "        \n",
    "        B = self.div.dot(self.div.transpose())\n",
    "        cov += np.linalg.norm(kf)**2 * Pk.dot(B).dot(Pk)\n",
    "        \n",
    "        S = self.shape.dot(self.shape.transpose())\n",
    "        cov += Pk.dot(S).dot(Pk)\n",
    "                \n",
    "        return R.dot(cov).dot(R.transpose())\n",
    "    \n",
    "    def residual(x, fit_data):\n",
    "        m = ShapeModel()\n",
    "        m.decode(x)\n",
    "        \n",
    "        res = []\n",
    "\n",
    "        for dt in fit_data:\n",
    "            pred_cov = m.predict(dt)\n",
    "            obs_cov = dt.cov\n",
    "            #diff = np.linalg.inv(S)-np.linalg.inv(Sfit)\n",
    "            diff = obs_cov-pred_cov\n",
    "            res.extend(diff.flatten())\n",
    "            #res.append(KL_divergence(S, Sfit))\n",
    "\n",
    "        return res\n",
    "    \n",
    "    def summarize(self):\n",
    "        print(\"Mosaicity\")\n",
    "        plt.imshow(self.mos)\n",
    "        plt.show()\n",
    "        w, _ = np.linalg.eig(self.mos)\n",
    "        print(w)\n",
    "\n",
    "def KL_divergence(S0, S1):\n",
    "    k, _ = S0.shape    \n",
    "    A = np.linalg.inv(S1).dot(S0)    \n",
    "    return 0.5 * (A.trace() - k - np.log(np.linalg.det(A)))\n",
    "\n",
    "\n",
    "#model = ShapeModel()\n",
    "#model.mos = 0.01 * np.identity(3)\n",
    "#model.div = 0.3 * np.identity(3)\n",
    "#model.div[1,1] = 0.001\n",
    "#model.shape = 0.01 * np.identity(3)\n",
    "\n",
    "result = least_squares(lambda x: ShapeModel.residual(x, fit_data), model.encode(), gtol=3e-16, verbose=2,max_nfev=10)\n",
    "print(result)\n",
    "\n",
    "model.decode(result.x)\n",
    "\n",
    "#model.summarize()\n",
    "#print(model.bleed)"
   ]
  },
  {
   "cell_type": "code",
   "execution_count": null,
   "metadata": {
    "collapsed": true
   },
   "outputs": [],
   "source": [
    "print_eig = lambda x: print(np.linalg.eig(x)[0])\n",
    "\n",
    "M = model.mos\n",
    "M = M.dot(M.transpose())\n",
    "\n",
    "D = model.div\n",
    "D = D.dot(D.transpose())\n",
    "\n",
    "S = model.shape\n",
    "S = S.dot(S.transpose())\n",
    "\n",
    "plt.imshow(M)\n",
    "plt.show()\n",
    "\n",
    "plt.imshow(D)\n",
    "plt.show()\n",
    "\n",
    "plt.imshow(S)\n",
    "plt.show()"
   ]
  },
  {
   "cell_type": "code",
   "execution_count": null,
   "metadata": {
    "collapsed": true
   },
   "outputs": [],
   "source": [
    "np.linalg.eig(D)[1]"
   ]
  },
  {
   "cell_type": "code",
   "execution_count": null,
   "metadata": {
    "collapsed": true
   },
   "outputs": [],
   "source": [
    "import random\n",
    "dt = random.sample(fit_data, 1)[0]\n",
    "\n",
    "plt.imshow(S)\n",
    "plt.show()\n",
    "\n",
    "Sfit = model.predict(dt)\n",
    "\n",
    "plt.imshow(Sfit)\n",
    "plt.show()\n",
    "\n",
    "w_obs, u_obs = np.linalg.eig(S)\n",
    "w_fit, u_fit = np.linalg.eig(Sfit)\n",
    "\n",
    "print(w_obs)\n",
    "print(w_fit)\n",
    "\n",
    "\n",
    "print(S.transpose().dot(Sfit).trace() / np.linalg.norm(S) / np.linalg.norm(Sfit))"
   ]
  },
  {
   "cell_type": "code",
   "execution_count": null,
   "metadata": {
    "collapsed": true
   },
   "outputs": [],
   "source": [
    "errors = []\n",
    "KL_errors = []\n",
    "pearson = []\n",
    "qs = []\n",
    "\n",
    "#good_fit_data = fit_data\n",
    "\n",
    "new_fit_data = []\n",
    "\n",
    "for dt in fit_data:\n",
    "    pred = model.predict(dt)\n",
    "    \n",
    "    #err = np.linalg.norm(S-Sfit)\n",
    "    err = np.linalg.norm(pred-dt.cov) /np.linalg.norm(dt.cov)\n",
    "    \n",
    "    if (err > 1e10):\n",
    "        continue\n",
    "    \n",
    "    errors.append(err)\n",
    "    KL_errors.append(KL_divergence(dt.cov, pred))\n",
    "    pearson.append(dt.cov.transpose().dot(pred).trace() / np.linalg.norm(pred) / np.linalg.norm(dt.cov))\n",
    "    qs.append(np.linalg.norm(dt.q))\n",
    "    \n",
    "    if (pearson[-1] > 0.95):\n",
    "        new_fit_data.append(dt)\n",
    "    \n",
    "    \n",
    "qs = np.array(qs)\n",
    "\n",
    "plt.scatter(qs, errors)\n",
    "plt.show()\n",
    "\n",
    "plt.scatter(qs, pearson)\n",
    "plt.show()\n",
    "\n",
    "plt.scatter(qs, KL_errors)\n",
    "plt.show()\n",
    "\n",
    "pearson = np.array(pearson)\n",
    "pmean = pearson.mean()\n",
    "pstd = pearson.std()\n",
    "\n",
    "print(\"number of good peaks:\", len(good_fit_data))\n",
    "print(\"mean pearson:\", pmean)\n",
    "print(\"mean error:\", sum(errors)/len(errors))\n",
    "\n",
    "result = least_squares(lambda x: ShapeModel.residual(x, new_fit_data), model.encode(), gtol=3e-16)\n",
    "#print(result)\n",
    "\n",
    "model.decode(result.x)\n",
    "\n",
    "\n",
    "print_eig(model.mos)\n",
    "print_eig(model.div)\n",
    "print_eig(model.shape)\n",
    "print_eig(model.bleed)\n",
    "print_eig(model.scatter_cov())\n"
   ]
  },
  {
   "cell_type": "code",
   "execution_count": null,
   "metadata": {
    "collapsed": true
   },
   "outputs": [],
   "source": []
  },
  {
   "cell_type": "code",
   "execution_count": null,
   "metadata": {
    "collapsed": true
   },
   "outputs": [],
   "source": [
    "def ellipse_center(cov, z):\n",
    "    A = np.linalg.inv(cov)\n",
    "    b = A[:2,2]\n",
    "    c = A[2,2]\n",
    "    A2 = A[:2,:2]\n",
    "    \n",
    "    r2 = 1 - c*z**2 + b.transpose().dot(A2.dot(b))\n",
    "    center = -np.linalg.inv(A2).dot(b)*z\n",
    "    \n",
    "    return center\n",
    "    \n",
    "    \n",
    "dt = random.sample(fit_data, 1)[0]\n",
    "pred_cov = model.predict(dt)\n",
    "obs_cov = dt.cov\n",
    "\n",
    "# to detector space\n",
    "JI = np.linalg.inv(dt.Jd)\n",
    "pred_cov = JI.dot(pred_cov).dot(JI.transpose())\n",
    "obs_cov = JI.dot(obs_cov).dot(JI.transpose())\n",
    "\n",
    "zs = np.linspace(-3, 3)\n",
    "\n",
    "obs_xs = []\n",
    "obs_ys = []\n",
    "\n",
    "pred_xs = []\n",
    "pred_ys = []\n",
    "\n",
    "dx = []\n",
    "dy = []\n",
    "\n",
    "dc = []\n",
    "\n",
    "for z in zs:\n",
    "    c_obs = ellipse_center(obs_cov, z)\n",
    "    c_pred = ellipse_center(pred_cov, z)\n",
    "    \n",
    "    pred_xs.append(c_pred[0])\n",
    "    pred_ys.append(c_pred[1])\n",
    "    \n",
    "    obs_xs.append(c_obs[0])\n",
    "    obs_ys.append(c_obs[1])\n",
    "    \n",
    "    dx.append(c_obs[0]-c_pred[0])\n",
    "    dy.append(c_obs[1]-c_pred[1])\n",
    "        \n",
    "    dc.append(np.linalg.norm(np.array(c_obs)-np.array(c_pred)))\n",
    "    \n",
    "    \n",
    "#plt.scatter(zs, pred_xs)\n",
    "#plt.show()\n",
    "\n",
    "#plt.scatter(obs_ys, pred_ys)\n",
    "#plt.show()\n",
    "\n",
    "plt.scatter(zs, dx)\n",
    "plt.scatter(zs, dy)\n",
    "plt.show()\n"
   ]
  },
  {
   "cell_type": "code",
   "execution_count": null,
   "metadata": {
    "collapsed": true
   },
   "outputs": [],
   "source": [
    "Mos, Beam, Shape, Det = decode(result.x)\n",
    "\n",
    "w, u = np.linalg.eig(Beam)\n",
    "print(np.sqrt(w) / 2.67 / np.pi * 180)\n",
    "print(u)"
   ]
  },
  {
   "cell_type": "code",
   "execution_count": null,
   "metadata": {
    "collapsed": true
   },
   "outputs": [],
   "source": [
    "errors = []\n",
    "mean = np.zeros((3,3), dtype=np.float)\n",
    "\n",
    "good_fit_data = fit_data\n",
    "\n",
    "for S, R, A in fit_data:\n",
    "    mean += S\n",
    "    \n",
    "mean /= len(fit_data)\n",
    "\n",
    "for S, R, A in fit_data:\n",
    "    errors.append(np.linalg.norm(S-mean) / np.linalg.norm(S))\n",
    "    \n",
    "plt.plot(range(len(errors)), errors)\n",
    "plt.show()\n",
    "\n",
    "errors = np.array(errors)\n",
    "print(errors.mean())\n",
    "print(errors.std())\n",
    "\n",
    "new_fit_data = []\n",
    "\n",
    "for i in range(len(fit_data)):\n",
    "    if errors[i] > errors.mean() + 3*errors.std():\n",
    "        print(i, (errors[i]-errors.mean()) / errors.std())\n",
    "    else:\n",
    "        good_fit_data.append(fit_data[i])\n",
    "               \n"
   ]
  },
  {
   "cell_type": "code",
   "execution_count": null,
   "metadata": {
    "collapsed": true
   },
   "outputs": [],
   "source": [
    "def mean_DKL(M, D, data):\n",
    "    DKLs = [ DKL(S, fit_model(M, D, R, A)) for S, R, A in data]\n",
    "    return np.array(DKLs).mean()\n",
    "\n",
    "def DKL(S1, S2):\n",
    "    d = 0    \n",
    "    d = np.log(np.linalg.det(S2) / np.linalg.det(S1))\n",
    "    d += np.linalg.inv(S2).dot(S1).trace()\n",
    "    d -= S1.shape[0]\n",
    "    d *= 0.5    \n",
    "    return d    "
   ]
  },
  {
   "cell_type": "code",
   "execution_count": null,
   "metadata": {
    "collapsed": true
   },
   "outputs": [],
   "source": [
    "J = result.jac\n",
    "JTJ = J.transpose().dot(J)\n",
    "JTJ = 0.5 * (JTJ + JTJ.transpose())\n",
    "w, u = np.linalg.eigh(JTJ)\n",
    "JTJI = np.linalg.inv(JTJ)\n",
    "\n",
    "COV = JTJI.dot(JTJI.transpose())\n",
    "\n",
    "plt.imshow(COV)\n",
    "plt.show()"
   ]
  },
  {
   "cell_type": "code",
   "execution_count": null,
   "metadata": {
    "collapsed": true
   },
   "outputs": [],
   "source": [
    "COV"
   ]
  },
  {
   "cell_type": "code",
   "execution_count": null,
   "metadata": {
    "collapsed": true
   },
   "outputs": [],
   "source": []
  },
  {
   "cell_type": "code",
   "execution_count": null,
   "metadata": {
    "collapsed": true
   },
   "outputs": [],
   "source": []
  },
  {
   "cell_type": "code",
   "execution_count": null,
   "metadata": {
    "collapsed": true
   },
   "outputs": [],
   "source": []
  },
  {
   "cell_type": "code",
   "execution_count": null,
   "metadata": {
    "collapsed": true
   },
   "outputs": [],
   "source": []
  },
  {
   "cell_type": "code",
   "execution_count": null,
   "metadata": {
    "collapsed": true
   },
   "outputs": [],
   "source": []
  },
  {
   "cell_type": "code",
   "execution_count": null,
   "metadata": {
    "collapsed": true
   },
   "outputs": [],
   "source": []
  },
  {
   "cell_type": "code",
   "execution_count": null,
   "metadata": {
    "collapsed": true
   },
   "outputs": [],
   "source": []
  },
  {
   "cell_type": "code",
   "execution_count": null,
   "metadata": {
    "collapsed": true
   },
   "outputs": [],
   "source": []
  },
  {
   "cell_type": "code",
   "execution_count": null,
   "metadata": {
    "collapsed": true
   },
   "outputs": [],
   "source": []
  },
  {
   "cell_type": "code",
   "execution_count": null,
   "metadata": {
    "collapsed": true
   },
   "outputs": [],
   "source": []
  },
  {
   "cell_type": "code",
   "execution_count": null,
   "metadata": {
    "collapsed": true
   },
   "outputs": [],
   "source": []
  }
 ],
 "metadata": {
  "kernelspec": {
   "display_name": "Python 3",
   "language": "python",
   "name": "python3"
  },
  "language_info": {
   "codemirror_mode": {
    "name": "ipython",
    "version": 3
   },
   "file_extension": ".py",
   "mimetype": "text/x-python",
   "name": "python",
   "nbconvert_exporter": "python",
   "pygments_lexer": "ipython3",
   "version": "3.6.4"
  }
 },
 "nbformat": 4,
 "nbformat_minor": 2
}

{
 "cells": [
  {
   "cell_type": "code",
   "execution_count": 1,
   "metadata": {
    "collapsed": true
   },
   "outputs": [],
   "source": [
    "import numpy as np\n",
    "from matplotlib import pyplot as plt"
   ]
  },
  {
   "cell_type": "code",
   "execution_count": 8,
   "metadata": {},
   "outputs": [],
   "source": [
    "sigma_D = np.diag([3., 4., 5.])"
   ]
  },
  {
   "cell_type": "code",
   "execution_count": 36,
   "metadata": {},
   "outputs": [
    {
     "name": "stdout",
     "output_type": "stream",
     "text": [
      "[3. 4. 5.]\n",
      "[[1. 0. 0.]\n",
      " [0. 1. 0.]\n",
      " [0. 0. 1.]]\n"
     ]
    }
   ],
   "source": [
    "w, U1 = np.linalg.eig(sigma_D)\n",
    "print(w)\n",
    "print(U1)"
   ]
  },
  {
   "cell_type": "code",
   "execution_count": 48,
   "metadata": {},
   "outputs": [],
   "source": [
    "ki = np.array([[0.,1.,0.]]).transpose()\n",
    "kf = np.array([[1.,1.,1.]]).transpose()\n",
    "kf /= np.linalg.norm(kf)\n",
    "\n",
    "q = kf - ki\n",
    "n = q / np.linalg.norm(q)\n",
    "\n",
    "A = np.identity(3) + 2*n.dot(n.transpose())\n",
    "\n",
    "new_sigma = A.dot(sigma_D).dot(A)"
   ]
  },
  {
   "cell_type": "code",
   "execution_count": 52,
   "metadata": {},
   "outputs": [
    {
     "name": "stdout",
     "output_type": "stream",
     "text": [
      "[[ 0.81649658]\n",
      " [-0.40824829]\n",
      " [-0.40824829]]\n",
      "[[-0.40824829]\n",
      " [-0.40824829]\n",
      " [ 0.81649658]]\n"
     ]
    }
   ],
   "source": [
    "e1 = np.array([[1.,0.,0.]]).transpose()\n",
    "e1 -= kf.transpose().dot(e1)*kf\n",
    "e1 /= np.linalg.norm(e1)\n",
    "\n",
    "e2 = np.array([[0.,0.,1.]]).transpose()\n",
    "e2 -= kf.transpose().dot(e2)*kf\n",
    "e2 /= np.linalg.norm(e2)\n",
    "\n",
    "print(e1)\n",
    "print(e2)"
   ]
  },
  {
   "cell_type": "code",
   "execution_count": 53,
   "metadata": {},
   "outputs": [
    {
     "data": {
      "text/plain": [
       "array([[-0.5]])"
      ]
     },
     "execution_count": 53,
     "metadata": {},
     "output_type": "execute_result"
    }
   ],
   "source": []
  },
  {
   "cell_type": "code",
   "execution_count": 37,
   "metadata": {},
   "outputs": [
    {
     "name": "stdout",
     "output_type": "stream",
     "text": [
      "[-4.44089210e-16  3.42264973e+00  4.57735027e+00]\n",
      "[[-0.57735027 -0.78867513 -0.21132487]\n",
      " [-0.57735027  0.57735027 -0.57735027]\n",
      " [-0.57735027  0.21132487  0.78867513]]\n"
     ]
    }
   ],
   "source": [
    "w, U2 = np.linalg.eig(new_sigma)\n",
    "print(w)\n",
    "print(U2)"
   ]
  },
  {
   "cell_type": "code",
   "execution_count": 27,
   "metadata": {},
   "outputs": [
    {
     "name": "stdout",
     "output_type": "stream",
     "text": [
      "[-1.]\n",
      "[1.94289029e-16]\n",
      "[-5.55111512e-17]\n"
     ]
    }
   ],
   "source": [
    "print(kf.transpose().dot(U[:,0]))\n",
    "print(kf.transpose().dot(U[:,1]))\n",
    "print(kf.transpose().dot(U[:,2]))"
   ]
  },
  {
   "cell_type": "code",
   "execution_count": 34,
   "metadata": {},
   "outputs": [],
   "source": [
    "e1 = np.cross(ki[:,0], kf[:,0])\n",
    "e1 /= np.linalg.norm(e1)"
   ]
  },
  {
   "cell_type": "code",
   "execution_count": 35,
   "metadata": {},
   "outputs": [
    {
     "data": {
      "text/plain": [
       "array([ 0.70710678,  0.        , -0.70710678])"
      ]
     },
     "execution_count": 35,
     "metadata": {},
     "output_type": "execute_result"
    }
   ],
   "source": [
    "e1"
   ]
  },
  {
   "cell_type": "code",
   "execution_count": 31,
   "metadata": {},
   "outputs": [
    {
     "data": {
      "text/plain": [
       "array([[0.],\n",
       "       [1.],\n",
       "       [0.]])"
      ]
     },
     "execution_count": 31,
     "metadata": {},
     "output_type": "execute_result"
    }
   ],
   "source": [
    "ki"
   ]
  },
  {
   "cell_type": "code",
   "execution_count": 38,
   "metadata": {},
   "outputs": [
    {
     "data": {
      "text/plain": [
       "array([[-0.57735027, -0.78867513, -0.21132487],\n",
       "       [-0.57735027,  0.57735027, -0.57735027],\n",
       "       [-0.57735027,  0.21132487,  0.78867513]])"
      ]
     },
     "execution_count": 38,
     "metadata": {},
     "output_type": "execute_result"
    }
   ],
   "source": [
    "U2.dot(U1.transpose())"
   ]
  },
  {
   "cell_type": "code",
   "execution_count": null,
   "metadata": {},
   "outputs": [],
   "source": []
  },
  {
   "cell_type": "code",
   "execution_count": null,
   "metadata": {
    "collapsed": true
   },
   "outputs": [],
   "source": []
  }
 ],
 "metadata": {
  "kernelspec": {
   "display_name": "Python 3",
   "language": "python",
   "name": "python3"
  },
  "language_info": {
   "codemirror_mode": {
    "name": "ipython",
    "version": 3
   },
   "file_extension": ".py",
   "mimetype": "text/x-python",
   "name": "python",
   "nbconvert_exporter": "python",
   "pygments_lexer": "ipython3",
   "version": "3.6.4"
  }
 },
 "nbformat": 4,
 "nbformat_minor": 2
}

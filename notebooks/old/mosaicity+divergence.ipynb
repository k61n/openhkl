{
 "cells": [
  {
   "cell_type": "code",
   "execution_count": 61,
   "metadata": {},
   "outputs": [],
   "source": [
    "import numpy as np\n",
    "from matplotlib import pyplot as plt\n",
    "\n",
    "sigmaM = 0.5\n",
    "sigmaD = 0.2\n",
    "\n",
    "x = np.linspace(-1, 1, num=200)\n",
    "y = np.linspace(-1, 1, num=200)\n",
    "x, y = np.meshgrid(x, y)\n",
    "\n",
    "ki = np.array([0, 1, 0], dtype=np.float)\n",
    "m = np.array([0, 0, 1], dtype=np.float)\n",
    "kf = np.random.rand(3)\n",
    "kf /= np.linalg.norm(kf)\n",
    "\n",
    "e1 = np.cross(kf, ki)\n",
    "e1 /= np.linalg.norm(e1)\n",
    "\n",
    "e2 = np.cross(kf, e1)\n",
    "e2 /= np.linalg.norm(e2)\n",
    "\n",
    "q = kf-ki\n",
    "\n",
    "qdot = np.cross(m, q)"
   ]
  },
  {
   "cell_type": "code",
   "execution_count": 64,
   "metadata": {},
   "outputs": [
    {
     "data": {
      "image/png": "[encoded data removed]",
      "text/plain": [
       "<matplotlib.figure.Figure at 0x7f4b616739e8>"
      ]
     },
     "metadata": {},
     "output_type": "display_data"
    }
   ],
   "source": [
    "dt = -1\n",
    "\n",
    "dq = kf.dot(dt*qdot)\n",
    "\n",
    "x0 = e1.dot(dt*qdot)\n",
    "y0 = e2.dot(dt*qdot)\n",
    "\n",
    "dx = x - x0\n",
    "dy = y - y0\n",
    "\n",
    "image = np.exp(-0.5*(dx**2+dy**2)/sigmaD/sigmaD) * np.exp(-0.5*dq**2/sigmaM/sigmaM)\n",
    "plt.imshow(image, vmin=0, vmax=1)\n",
    "plt.show()"
   ]
  },
  {
   "cell_type": "code",
   "execution_count": 40,
   "metadata": {},
   "outputs": [
    {
     "data": {
      "text/plain": [
       "-0.8086460957903101"
      ]
     },
     "execution_count": 40,
     "metadata": {},
     "output_type": "execute_result"
    }
   ],
   "source": [
    "x0"
   ]
  },
  {
   "cell_type": "code",
   "execution_count": 41,
   "metadata": {},
   "outputs": [
    {
     "data": {
      "text/plain": [
       "-0.169227035219689"
      ]
     },
     "execution_count": 41,
     "metadata": {},
     "output_type": "execute_result"
    }
   ],
   "source": [
    "y0"
   ]
  },
  {
   "cell_type": "code",
   "execution_count": 28,
   "metadata": {},
   "outputs": [
    {
     "data": {
      "text/plain": [
       "array([-0.97879656,  0.        ,  0.20483477])"
      ]
     },
     "execution_count": 28,
     "metadata": {},
     "output_type": "execute_result"
    }
   ],
   "source": [
    "e1"
   ]
  },
  {
   "cell_type": "code",
   "execution_count": 29,
   "metadata": {},
   "outputs": [
    {
     "data": {
      "text/plain": [
       "-0.5186287943151325"
      ]
     },
     "execution_count": 29,
     "metadata": {},
     "output_type": "execute_result"
    }
   ],
   "source": [
    "dq"
   ]
  },
  {
   "cell_type": "code",
   "execution_count": null,
   "metadata": {
    "collapsed": true
   },
   "outputs": [],
   "source": []
  }
 ],
 "metadata": {
  "kernelspec": {
   "display_name": "Python 3",
   "language": "python",
   "name": "python3"
  },
  "language_info": {
   "codemirror_mode": {
    "name": "ipython",
    "version": 3
   },
   "file_extension": ".py",
   "mimetype": "text/x-python",
   "name": "python",
   "nbconvert_exporter": "python",
   "pygments_lexer": "ipython3",
   "version": "3.6.4"
  }
 },
 "nbformat": 4,
 "nbformat_minor": 2
}

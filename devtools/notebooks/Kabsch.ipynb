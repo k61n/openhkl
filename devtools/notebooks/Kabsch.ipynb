{
 "cells": [
  {
   "cell_type": "code",
   "execution_count": 74,
   "metadata": {
    "collapsed": true
   },
   "outputs": [],
   "source": [
    "import numpy as np\n",
    "from matplotlib import pyplot as plt\n",
    "\n",
    "deg = 180 / np.pi"
   ]
  },
  {
   "cell_type": "code",
   "execution_count": 113,
   "metadata": {},
   "outputs": [
    {
     "name": "stdout",
     "output_type": "stream",
     "text": [
      "57.35508833400596\n"
     ]
    }
   ],
   "source": [
    "ki = np.array([0.,1.,0.]).reshape(3,1)\n",
    "m = np.array([0., 0., 1.]).reshape(3,1)\n",
    "\n",
    "Sigma_D = np.diag([1., 0.1, 1.]) * 2 * deg\n",
    "Sigma_M = np.diag([1., 1., 1.]) * 1 * deg\n",
    "\n",
    "kf = np.random.rand(3,1)\n",
    "\n",
    "ki /= np.linalg.norm(ki)\n",
    "kf /= np.linalg.norm(kf)\n",
    "\n",
    "if kf.transpose().dot(ki).trace() < 0:\n",
    "    kf = -kf\n",
    "\n",
    "q = kf-ki\n",
    "\n",
    "e1 = np.cross(kf.reshape(3), ki.reshape(3)).reshape(3,1)\n",
    "e2 = np.cross(kf.reshape(3), e1.reshape(3)).reshape(3,1)\n",
    "e3 = kf+ki\n",
    "\n",
    "e1 /= np.linalg.norm(e1)\n",
    "e2 /= np.linalg.norm(e2)\n",
    "e3 /= np.linalg.norm(e3)\n",
    "\n",
    "\n",
    "A = kf.dot(ki.transpose()) - np.identity(3)\n",
    "AAT = A.dot(A.transpose())\n",
    "\n",
    "Sigma = Sigma_M + A.dot(Sigma_D).dot(A.transpose())\n",
    "\n",
    "a = np.cross(e1.reshape(3), q.reshape(3)).reshape(3,1)\n",
    "\n",
    "#J = np.array([e1.reshape(3), e2.reshape(3), a.reshape(3)]).transpose()\n",
    "J = np.array([e1.reshape(3), e2.reshape(3), e3.reshape(3)]).transpose()\n",
    "JI = np.linalg.inv(J)\n",
    "\n",
    "Sigma_eps = JI.dot(Sigma).dot(JI.transpose())\n",
    "\n",
    "print(np.arccos(kf.transpose().dot(ki).trace()) * deg)"
   ]
  },
  {
   "cell_type": "code",
   "execution_count": 114,
   "metadata": {},
   "outputs": [
    {
     "data": {
      "image/png": "[encoded data removed]",
      "text/plain": [
       "<matplotlib.figure.Figure at 0x7fc9fa6640f0>"
      ]
     },
     "metadata": {},
     "output_type": "display_data"
    },
    {
     "data": {
      "image/png": "[encoded data removed]",
      "text/plain": [
       "<matplotlib.figure.Figure at 0x7fc9fa721780>"
      ]
     },
     "metadata": {},
     "output_type": "display_data"
    },
    {
     "name": "stdout",
     "output_type": "stream",
     "text": [
      "[[1.71887339e+02 2.06184479e-14 3.62749199e-14]\n",
      " [3.34063230e-14 2.02742629e+02 1.52282229e+02]\n",
      " [1.96274996e-14 1.52282229e+02 1.83150249e+02]]\n",
      "\n"
     ]
    }
   ],
   "source": [
    "plt.imshow(Sigma)\n",
    "plt.show()\n",
    "\n",
    "plt.imshow(Sigma_eps)\n",
    "plt.show()\n",
    "\n",
    "print(Sigma_eps)\n",
    "\n",
    "print()"
   ]
  },
  {
   "cell_type": "code",
   "execution_count": 118,
   "metadata": {},
   "outputs": [
    {
     "name": "stdout",
     "output_type": "stream",
     "text": [
      "[[ 1.46056902e+00 -4.60569019e-01 -2.12714451e-16]\n",
      " [-1.00000000e+00  4.60569019e-01  1.35987330e-16]\n",
      " [ 3.07500843e-17  1.46946554e-18  1.00000000e+00]]\n"
     ]
    }
   ],
   "source": [
    "B = np.array([kf.reshape(3), ki.reshape(3), e1.reshape(3)]).transpose()\n",
    "BI = np.linalg.inv(B)\n",
    "\n",
    "print(BI.dot(AAT).dot(B))"
   ]
  },
  {
   "cell_type": "code",
   "execution_count": 119,
   "metadata": {},
   "outputs": [
    {
     "data": {
      "text/plain": [
       "array([[0.46056902]])"
      ]
     },
     "execution_count": 119,
     "metadata": {},
     "output_type": "execute_result"
    }
   ],
   "source": [
    "1-kf.transpose().dot(ki)"
   ]
  },
  {
   "cell_type": "code",
   "execution_count": 120,
   "metadata": {},
   "outputs": [
    {
     "name": "stdout",
     "output_type": "stream",
     "text": [
      "[1.80352158 1.         0.11761646]\n",
      "1.8035215790934265 0.1176164585849403\n"
     ]
    }
   ],
   "source": [
    "eps = 1 - kf.transpose().dot(ki).trace()\n",
    "\n",
    "w, u = np.linalg.eig(AAT)\n",
    "print(w)\n",
    "\n",
    "w1 = 0.5 + eps + 0.5*np.sqrt(1+4*eps)\n",
    "w2 = 0.5 + eps - 0.5*np.sqrt(1+4*eps)\n",
    "\n",
    "print(w1, w2)"
   ]
  },
  {
   "cell_type": "code",
   "execution_count": 121,
   "metadata": {},
   "outputs": [
    {
     "data": {
      "text/plain": [
       "array([[-2.99367892e-16,  7.23456020e-01,  2.58513856e-01],\n",
       "       [ 1.00000000e+00,  8.08622368e-17,  1.77114439e-16],\n",
       "       [-2.79681305e-17, -6.90370471e-01,  9.66007550e-01]])"
      ]
     },
     "execution_count": 121,
     "metadata": {},
     "output_type": "execute_result"
    }
   ],
   "source": [
    "u.transpose().dot(J)"
   ]
  },
  {
   "cell_type": "code",
   "execution_count": 122,
   "metadata": {},
   "outputs": [
    {
     "name": "stdout",
     "output_type": "stream",
     "text": [
      "[122.88022606 114.59155903   2.26679735]\n",
      "[[ 6.79423048e-01 -7.33318447e-01  2.50674534e-02]\n",
      " [-3.68701198e-02 -8.73172281e-17  9.99320066e-01]\n",
      " [ 7.32819839e-01  6.79885325e-01  2.70375390e-02]]\n"
     ]
    }
   ],
   "source": [
    "w, u = np.linalg.eig(A.dot(Sigma_D).dot(A.transpose()))\n",
    "print(w)\n",
    "\n",
    "print(u)"
   ]
  },
  {
   "cell_type": "code",
   "execution_count": 123,
   "metadata": {},
   "outputs": [
    {
     "data": {
      "text/plain": [
       "array([[118.34715536,  -3.02141574,   4.05075381],\n",
       "       [ -3.02141574,   2.43075994,  -3.25887296],\n",
       "       [  4.05075381,  -3.25887296, 118.96066714]])"
      ]
     },
     "execution_count": 123,
     "metadata": {},
     "output_type": "execute_result"
    }
   ],
   "source": [
    "A.dot(Sigma_D).dot(A.transpose())"
   ]
  },
  {
   "cell_type": "code",
   "execution_count": null,
   "metadata": {},
   "outputs": [],
   "source": []
  },
  {
   "cell_type": "code",
   "execution_count": 124,
   "metadata": {},
   "outputs": [
    {
     "data": {
      "text/plain": [
       "-0.8420298192842572"
      ]
     },
     "execution_count": 124,
     "metadata": {},
     "output_type": "execute_result"
    }
   ],
   "source": [
    "e2.transpose().dot(ki).trace()"
   ]
  },
  {
   "cell_type": "code",
   "execution_count": null,
   "metadata": {
    "collapsed": true
   },
   "outputs": [],
   "source": []
  },
  {
   "cell_type": "code",
   "execution_count": null,
   "metadata": {
    "collapsed": true
   },
   "outputs": [],
   "source": []
  }
 ],
 "metadata": {
  "kernelspec": {
   "display_name": "Python 3",
   "language": "python",
   "name": "python3"
  },
  "language_info": {
   "codemirror_mode": {
    "name": "ipython",
    "version": 3
   },
   "file_extension": ".py",
   "mimetype": "text/x-python",
   "name": "python",
   "nbconvert_exporter": "python",
   "pygments_lexer": "ipython3",
   "version": "3.6.4"
  }
 },
 "nbformat": 4,
 "nbformat_minor": 2
}

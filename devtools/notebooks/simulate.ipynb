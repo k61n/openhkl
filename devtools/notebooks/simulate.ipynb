{
 "cells": [
  {
   "cell_type": "code",
   "execution_count": 6,
   "metadata": {},
   "outputs": [
    {
     "name": "stdout",
     "output_type": "stream",
     "text": [
      "42.99999999999999 53.0 61.00000000000001\n"
     ]
    },
    {
     "data": {
      "text/plain": [
       "172542"
      ]
     },
     "execution_count": 6,
     "metadata": {},
     "output_type": "execute_result"
    }
   ],
   "source": [
    "###############################################################################\n",
    "# \n",
    "# author: Jonathan Fisher\n",
    "#         j.fisher@fz-juelich.de\n",
    "#         jonathan.m.fisher@gmail.com\n",
    "#\n",
    "# description:\n",
    "#     generates (obviously fake) simulated biodiff data,\n",
    "#  with and without slowly varying background. This is used\n",
    "#  in functional tests of nsxlib.\n",
    "#\n",
    "###############################################################################\n",
    "\n",
    "import numpy as np\n",
    "import math\n",
    "import pynsx as nsx\n",
    "import h5py\n",
    "\n",
    "pi2 = np.pi / 2.0\n",
    "wavelength = 2.67\n",
    "dmin = 1.5\n",
    "dmax = 50.0\n",
    "infile = \"/home/jonathan/git/nsxtool/tests/data/blank.hdf\"\n",
    "outfile = \"/home/jonathan/git/nsxtool/tests/data/simulated.hdf\"\n",
    "\n",
    "group_name = \"P 21 21 21\"\n",
    "#group_name = \"P 1\"\n",
    "group = nsx.SpaceGroup(group_name)\n",
    "\n",
    "from matplotlib import pyplot as plt\n",
    "\n",
    "def correct_image(image):\n",
    "    baseline = 227.0\n",
    "    gain = 8.0\n",
    "    return gain*(image+baseline)\n",
    "\n",
    "def poisson_noise(image):\n",
    "    return np.sqrt(image)*np.random.normal(0, 1, image.shape)\n",
    "\n",
    "exp = nsx.Experiment(\"Simulated\", \"BioDiff2500\")\n",
    "diff = exp.diffractometer()\n",
    "reader = nsx.HDF5DataReader(infile, diff)\n",
    "data = nsx.DataSet(reader)\n",
    "exp.addData(data)\n",
    "\n",
    "A = np.diag([43., 53., 61.])\n",
    "U = np.random.rand(3,3)\n",
    "U = np.identity(3) + U.dot(U.transpose())\n",
    "_, U = np.linalg.eig(U)\n",
    "\n",
    "uc = nsx.UnitCell(U.dot(A))\n",
    "ch = nsx.CellCharacter(uc.metric())\n",
    "print(ch.a, ch.b, ch.c)\n",
    "uc.niggliBasis()\n",
    "\n",
    "uc.setSpaceGroup(group_name)\n",
    "\n",
    "det_shape = nsx.Ellipsoid(np.array([800.0, 450.0, 10.0]), 5.0)\n",
    "peak = nsx.Peak3D(data, det_shape)\n",
    "peak.setSelected(True)\n",
    "\n",
    "hkls = uc.generateReflectionsInShell(dmin, dmax, wavelength)\n",
    "len(hkls)"
   ]
  },
  {
   "cell_type": "code",
   "execution_count": null,
   "metadata": {},
   "outputs": [],
   "source": []
  },
  {
   "cell_type": "code",
   "execution_count": 7,
   "metadata": {},
   "outputs": [
    {
     "name": "stdout",
     "output_type": "stream",
     "text": [
      "166\n"
     ]
    }
   ],
   "source": [
    "print(data.nFrames())"
   ]
  },
  {
   "cell_type": "code",
   "execution_count": 8,
   "metadata": {},
   "outputs": [],
   "source": [
    "qs = nsx.ReciprocalVectorList()\n",
    "B = uc.reciprocalBasis()\n",
    "\n",
    "for hkl in hkls:\n",
    "    q = hkl.rowVector().dot(B)\n",
    "    qs.push_back(nsx.ReciprocalVector(q))"
   ]
  },
  {
   "cell_type": "code",
   "execution_count": 9,
   "metadata": {},
   "outputs": [
    {
     "data": {
      "text/plain": [
       "27808"
      ]
     },
     "execution_count": 9,
     "metadata": {},
     "output_type": "execute_result"
    }
   ],
   "source": [
    "events = data.getEvents(qs)\n",
    "len(events)"
   ]
  },
  {
   "cell_type": "code",
   "execution_count": 10,
   "metadata": {},
   "outputs": [],
   "source": [
    "sigmaD = 0.3\n",
    "sigmaM = 0.2\n",
    "\n",
    "peaks = []\n",
    "\n",
    "for event in events:\n",
    "    center = np.array([event._px, event._py, event._frame])\n",
    "    peak = nsx.Peak3D(data, nsx.Ellipsoid(center, 5.0))\n",
    "    coords = nsx.PeakCoordinateSystem(peak)\n",
    "    shape = coords.detectorShape(sigmaD, sigmaM)\n",
    "    peak.setShape(shape)\n",
    "    peaks.append(peak)"
   ]
  },
  {
   "cell_type": "code",
   "execution_count": 11,
   "metadata": {},
   "outputs": [],
   "source": [
    "A = np.random.rand(3,3)\n",
    "A /= np.linalg.norm(A)\n",
    "A = 0.5*np.identity(3) + A.dot(A.transpose())\n",
    "A /= np.linalg.norm(A)\n",
    "A *= 50\n"
   ]
  },
  {
   "cell_type": "code",
   "execution_count": 12,
   "metadata": {},
   "outputs": [
    {
     "data": {
      "image/png": "[encoded data removed]",
      "text/plain": [
       "<Figure size 432x288 with 1 Axes>"
      ]
     },
     "metadata": {},
     "output_type": "display_data"
    }
   ],
   "source": [
    "import random\n",
    "from matplotlib import pyplot as plt\n",
    "\n",
    "qs = []\n",
    "Is = []\n",
    "\n",
    "for i in range(100):\n",
    "    peak = random.sample(peaks, 1)[0]\n",
    "    q = peak.q().rowVector()\n",
    "    qs.append(np.linalg.norm(q))\n",
    "    \n",
    "    new_I = 0\n",
    "    \n",
    "    elements = group.groupElements()\n",
    "    for el in elements:\n",
    "        g = el.getRotationPart()\n",
    "        gq = q.dot(g)\n",
    "        new_I += np.exp(-gq.dot(A).dot(gq.transpose()).trace() / 2.0)\n",
    "        \n",
    "    I = new_I / len(elements)    \n",
    "    Is.append(I)\n",
    "    #print(I)\n",
    "       \n",
    "        \n",
    "plt.scatter(qs, Is)\n",
    "plt.show()"
   ]
  },
  {
   "cell_type": "code",
   "execution_count": 13,
   "metadata": {},
   "outputs": [
    {
     "data": {
      "text/plain": [
       "(array([43.44429845, 19.03458943, 15.82015606]),\n",
       " array([[-0.53623033, -0.64694227,  0.54214641],\n",
       "        [-0.73202425,  0.03665855, -0.68029159],\n",
       "        [-0.42023508,  0.76165731,  0.49323486]]))"
      ]
     },
     "execution_count": 13,
     "metadata": {},
     "output_type": "execute_result"
    }
   ],
   "source": [
    "np.linalg.eig(A)"
   ]
  },
  {
   "cell_type": "code",
   "execution_count": 15,
   "metadata": {},
   "outputs": [
    {
     "data": {
      "image/png": "[encoded data removed]",
      "text/plain": [
       "<Figure size 1440x720 with 1 Axes>"
      ]
     },
     "metadata": {},
     "output_type": "display_data"
    }
   ],
   "source": [
    "def frame_peaks(idx, peaks, nsigma):\n",
    "    in_frame = []\n",
    "    \n",
    "    for peak in peaks:\n",
    "        center = peak.getShape().center()\n",
    "        extents = peak.getShape().aabb().extents()\n",
    "        \n",
    "        df = extents[2] / 2.0\n",
    "        \n",
    "        if abs(center[2]-idx) > nsigma*df:\n",
    "            continue\n",
    "            \n",
    "        in_frame.append(peak)\n",
    "        \n",
    "    return in_frame\n",
    "\n",
    "def generate_frames(peaks, fmin, fmax):\n",
    "    Imax = 200**2\n",
    "    nsigma = 4    \n",
    "    rows, cols = data.frame(0).shape\n",
    "    image = np.zeros(shape=(rows, cols, fmax-fmin), dtype=np.float)\n",
    "    \n",
    "    B = uc.reciprocalBasis()\n",
    "    BI = np.linalg.inv(B)\n",
    "       \n",
    "    #in_frame = frame_peaks(idx, peaks, nsigma)\n",
    "    #print(len(in_frame))\n",
    "    elements = group.groupElements()\n",
    "    gs = [ B.dot(el.getRotationPart()).dot(BI) for el in elements ]\n",
    "    \n",
    "    for peak in peaks:\n",
    "        #print(\"#######################################\")\n",
    "        \n",
    "        \n",
    "        aabb = peak.getShape().aabb()\n",
    "        shape = peak.getShape()\n",
    "        center = shape.center()\n",
    "        inv_cov = shape.metric()\n",
    "        extents = aabb.extents()\n",
    "        \n",
    "        I = 0        \n",
    "        q = peak.q().rowVector().transpose()        \n",
    "        \n",
    "        for g in gs:\n",
    "            gq = g.dot(q)\n",
    "            I += Imax * np.exp(-0.5*gq.transpose().dot(A).dot(gq).trace())\n",
    "            \n",
    "        I /= len(gs)\n",
    "        #print(\"intensity\", I)\n",
    "        \n",
    "        xmin = int(center[0,0] - nsigma*extents[0,0]/2)\n",
    "        xmax = int(center[0,0] + nsigma*extents[0,0]/2)\n",
    "        \n",
    "        ymin = int(center[1,0] - nsigma*extents[1,0]/2)\n",
    "        ymax = int(center[1,0] + nsigma*extents[1,0]/2)\n",
    "        \n",
    "        zmin = int(center[2,0] - nsigma*extents[2,0]/2)\n",
    "        zmax = int(center[2,0] + nsigma*extents[2,0]/2)\n",
    "        \n",
    "        xmin = max(0, xmin)\n",
    "        xmax = min(data.nCols(), xmax)\n",
    "        \n",
    "        ymin = max(0, ymin)\n",
    "        ymax = min(data.nRows(), ymax)\n",
    "        \n",
    "        #print(\"z0\", zmin, zmax)\n",
    "        \n",
    "        zmin = max(fmin, zmin)\n",
    "        zmax = min(fmax, zmax)\n",
    "        \n",
    "        #print(\"x\", xmin, xmax)\n",
    "        #print(\"y\", ymin, ymax)\n",
    "        #print(\"z\", zmin, zmax)       \n",
    "        \n",
    "        x = range(xmin, xmax)\n",
    "        y = range(ymin, ymax)\n",
    "        z = range(zmin, zmax)\n",
    "        \n",
    "        if xmin >= xmax or ymin >= ymax or zmin >= zmax:\n",
    "            continue\n",
    "               \n",
    "        #print(\"x:\", x)\n",
    "        #print(\"y:\", y)\n",
    "        \n",
    "        #print(\"dx:\", np.array(x)-center[0,0])\n",
    "        #print(\"dy:\", np.array(y)-center[1,0])\n",
    "        \n",
    "        x, y, z = np.meshgrid(x, y, z)\n",
    "                \n",
    "        dx = x-center[0,0]\n",
    "        dy = y-center[1,0]\n",
    "        dz = z-center[2,0]\n",
    "        \n",
    "        \n",
    "        #print(\"dx\", dx.transpose())\n",
    "        \n",
    "        M = shape.metric()\n",
    "        #print(M.shape)\n",
    "        #print(dx.shape)\n",
    "        #print(x.shape)\n",
    "        arg = dx**2 * M[0,0] + dy**2 * M[1,1] + dz**2 * M[2,2]\n",
    "        arg += 2*dx*dy*M[0,1] + 2*dx*dz*M[0,2] + 2*dy*dz*M[1,2]\n",
    "               \n",
    "        gauss = np.exp(-0.5*arg)\n",
    "        gauss /= gauss.sum()\n",
    "        \n",
    "        inten = I * gauss\n",
    "        #print(\"inten\", inten.shape)\n",
    "        #print(\"im\", image.shape, image[ymin:ymax, xmin:xmax, (zmin-fmin):(zmax-fmin)].shape)\n",
    "        #print(\"integrated intensity\", inten.sum())\n",
    "        #print(\"z\", zmin, zmax)\n",
    "        image[ymin:ymax, xmin:xmax, (zmin-fmin):(zmax-fmin)] += inten   \n",
    "        \n",
    "        \n",
    "        \n",
    "        #break\n",
    "    \n",
    "    return image\n",
    "\n",
    "im = generate_frames(peaks, 45, 55)\n",
    "plt.figure(figsize=(20,10))\n",
    "plt.imshow(im[:, :, 5])\n",
    "plt.show()"
   ]
  },
  {
   "cell_type": "code",
   "execution_count": 16,
   "metadata": {},
   "outputs": [
    {
     "name": "stdout",
     "output_type": "stream",
     "text": [
      "[[1. 0. 0.]\n",
      " [0. 1. 0.]\n",
      " [0. 0. 1.]]\n",
      "[[-1.  0.  0.]\n",
      " [ 0. -1.  0.]\n",
      " [ 0.  0.  1.]]\n",
      "[[-1.  0.  0.]\n",
      " [ 0.  1.  0.]\n",
      " [ 0.  0. -1.]]\n",
      "[[ 1.  0.  0.]\n",
      " [ 0. -1.  0.]\n",
      " [ 0.  0. -1.]]\n"
     ]
    }
   ],
   "source": [
    "for el in group.groupElements():\n",
    "    print(el.getRotationPart())"
   ]
  },
  {
   "cell_type": "code",
   "execution_count": 18,
   "metadata": {},
   "outputs": [],
   "source": [
    "indexer = nsx.AutoIndexer(nsx.ProgressHandler())\n",
    "param = nsx.IndexerParameters()\n",
    "\n",
    "for peak in peaks:\n",
    "    indexer.addPeak(peak)\n",
    "    \n",
    "indexer.autoIndex(param)"
   ]
  },
  {
   "cell_type": "code",
   "execution_count": 19,
   "metadata": {},
   "outputs": [],
   "source": [
    "param = nsx.IndexerParameters()\n",
    "param.maxdim = 100.0\n",
    "param.minUnitCellVolume = 20*20*20\n",
    "#param.nVertices = 1000"
   ]
  },
  {
   "cell_type": "code",
   "execution_count": 20,
   "metadata": {},
   "outputs": [
    {
     "name": "stdout",
     "output_type": "stream",
     "text": [
      "42.999999999999076 53.00000000000025 60.99999999999967 100.0\n",
      "80.80841540361514 101.01980003915186 129.63795740421307 100.0\n",
      "139.4632568098135 60.99999999999995 180.76780686836906 100.0\n",
      "129.63795740446113 149.50919704153935 152.22023518573874 100.0\n",
      "180.7678068683691 60.99999999999999 263.38754716197195 100.0\n",
      "180.7678068683689 60.9999999999999 267.4060582709369 100.0\n",
      "180.7678068683691 60.999999999999986 278.92651361962686 100.0\n",
      "136.49908424601244 60.999999999999964 369.8499695822619 100.0\n",
      "105.43718509140818 149.50919704151752 257.2275257432661 100.0\n",
      "202.03960007879635 60.99999999999995 315.92562415859845 100.0\n",
      "139.46325680981346 60.99999999999998 475.3956247169299 100.0\n",
      "180.76780686836906 60.999999999999964 378.9683364082017 100.0\n",
      "164.71186963907607 60.99999999999999 539.9416635156056 100.0\n",
      "315.9256241585986 61.0 333.9281359813814 100.0\n",
      "298.52973051272454 105.99999999999967 251.1433853399282 100.0\n",
      "361.5356137367382 60.99999999999996 378.96833640820165 100.0\n",
      "318.00000000000017 60.99999999999998 433.2539670908967 100.0\n",
      "129.6379574044583 251.1433853399291 264.1003597119854 100.0\n",
      "91.53687781435357 167.23934943667064 604.2276061220662 100.0\n",
      "378.96833640820165 60.99999999999997 432.6337943341922 100.0\n",
      "315.92562415859845 60.99999999999996 539.9416635156055 100.0\n",
      "315.9256241585986 60.99999999999997 569.9587704387043 100.0\n",
      "183.07375562870828 190.03683853400628 322.04658048176844 100.0\n",
      "378.96833640820154 60.999999999999936 494.13560891722807 100.0\n",
      "433.2539670908966 60.99999999999996 478.9342334809656 100.0\n",
      "478.93423348096564 60.99999999999997 505.0990001969907 100.0\n",
      "139.4632568098134 303.6659348692245 354.54477855413415 100.0\n",
      "182.4965753103326 275.30891740007274 303.66593486922466 100.0\n",
      "180.76780686836975 293.92175829632 297.2440075089816 100.0\n",
      "152.22023518573354 224.75319797502365 446.0605340085577 100.0\n",
      "500.89220397207214 60.999999999999964 569.9587704387044 100.0\n",
      "220.60145058453284 264.08521352018147 305.6304958606059 100.0\n",
      "180.76780686836926 293.92175829631947 350.1556796626321 100.0\n",
      "180.7678068683691 293.9217582963189 383.4592546803379 100.0\n",
      "378.96833640820165 60.99999999999999 850.0741144159141 100.0\n",
      "149.50919704151977 355.105618091294 389.45217934940325 100.0\n",
      "274.2754090326 303.1979551382228 303.66593486922415 100.0\n",
      "270.35902056339796 315.9256241585984 334.1511633976453 100.0\n",
      "180.7678068683694 293.9217582963193 463.38105269853173 100.0\n",
      "270.3590205633981 320.89406351629515 342.04824221153365 100.0\n",
      "315.9256241585986 61.000000000000014 1299.1574192529552 100.0\n",
      "149.50919704151974 389.45217934940314 505.0752419194589 100.0\n",
      "149.50919704151983 389.45217934940337 535.889914068179 100.0\n",
      "270.35902056339785 354.5447785541339 436.91303482500945 100.0\n",
      "180.76780686836915 293.92175829631924 770.2499594287557 100.0\n",
      "342.04824221153376 354.54477855413415 388.9138722133731 100.0\n",
      "303.66593486922426 373.9224518533224 420.8396369164859 100.0\n",
      "322.04658048176805 354.54477855413404 408.65755835418 100.0\n",
      "342.04824221153353 354.54477855413404 420.8396369164858 100.0\n",
      "180.7678068683691 293.9217582963193 828.4382897959256 100.0\n",
      "149.50919704151977 389.45217934940354 798.7177223525217 100.0\n",
      "293.9217582963192 348.54841844426727 473.8744559479865 100.0\n",
      "354.5447785541341 399.9012378075367 420.83963691648586 100.0\n",
      "303.66593486922415 373.92245185332234 497.2373678636788 100.0\n",
      "342.04824221153376 354.54477855413415 472.9852006141417 100.0\n",
      "354.5447785541341 392.7874743420417 425.06587724728035 100.0\n",
      "303.66593486922415 373.92245185332234 543.3764809043539 100.0\n",
      "354.54477855413415 408.6575583541801 448.01116057526946 100.0\n",
      "275.3089174000728 497.2373678636788 538.9656760870766 100.0\n",
      "354.544778554134 403.1240503864782 499.0090179545855 100.0\n",
      "272.9981684920249 536.4121549704104 561.7054388200277 100.0\n",
      "354.5447785541341 420.8396369164858 555.8569959980713 100.0\n",
      "270.3590205633979 354.5447785541341 812.5453833479086 100.0\n",
      "318.98275815473147 497.23736786367846 532.4030428162486 100.0\n",
      "392.9045685659561 420.8396369164858 559.4970956135514 100.0\n",
      "408.93153461184687 463.38105269853276 497.23736786367897 100.0\n",
      "270.359020563398 354.5447785541341 962.2323004347754 100.0\n",
      "405.21229004066515 420.8396369164859 547.8083606517886 100.0\n",
      "443.58651918199706 453.27916343021934 561.7054388200276 100.0\n",
      "420.8396369164858 433.1131491885232 566.4371103661906 100.0\n",
      "420.8396369164858 561.7054388200274 564.8238663512724 100.0\n",
      "303.6659348692242 373.9224518533225 1093.5218333439889 100.0\n",
      "469.917013950336 492.7971184980689 586.8807374586422 100.0\n",
      "354.5447785541341 408.6575583541799 838.6149295117509 100.0\n",
      "354.54477855413415 420.8396369164859 882.1303758515515 100.0\n",
      "420.83963691648586 475.18522704309714 652.1625564228602 100.0\n",
      "420.8396369164857 559.4970956135514 652.1625564228601 100.0\n",
      "497.2373678636787 538.9656760870764 607.3557441895159 100.0\n",
      "354.54477855413404 408.65755835418 1087.6791806410565 100.0\n",
      "564.8238663512728 573.1762381676333 592.5141348524943 100.0\n",
      "420.8396369164858 559.4970956135516 722.6465249345634 100.0\n",
      "354.5447785541341 420.8396369164858 1271.4664761605002 100.0\n",
      "420.83963691648586 566.4371103661907 845.7050313200225 100.0\n",
      "561.7054388200278 564.8238663512724 765.6539688397093 100.0\n",
      "354.54477855413404 764.6417461792153 799.5254842717646 100.0\n",
      "497.23736786367874 532.4030428162487 873.0297818516844 100.0\n",
      "420.8396369164858 658.9468870857497 910.5630126465716 100.0\n",
      "629.2002860774935 658.9468870857498 699.9035647858918 100.0\n",
      "497.2373678636786 658.9468870857498 910.5630126465716 100.0\n",
      "497.23736786367874 532.4030428162487 1106.586643693118 100.0\n",
      "497.23736786367874 790.4796012548331 910.5630126465717 100.0\n",
      "420.83963691648563 652.1625564228601 1331.5768847498064 100.0\n",
      "659.3656041984594 702.3311184904175 839.8607027358755 100.0\n",
      "420.8396369164858 910.5630126465717 1024.897068002441 100.0\n",
      "658.94688708575 816.8561684898999 910.5630126465717 100.0\n",
      "61.000000000192024 114.38873521997344 139.4623692210456 99.953250863061\n",
      "60.9999999998523 68.2482444924779 166.96320641443938 90.34450517836595\n",
      "60.999999999951505 139.46190336610957 343.16815931685613 67.04545454545455\n",
      "61.000000000003936 139.4618768111419 800.7273338092737 61.43250688705234\n",
      "228.77711490529433 836.7784281105705 60.99999999999384 50.39556962025317\n",
      "136.496435557946 1001.7837054793177 60.99999999998894 47.648158803222096\n",
      "61.000000000001776 180.7590780941512 1021.2404063506845 47.62083646381167\n",
      "303.6269490491694 688.3366775084263 430.0000620310845 16.132048331415422\n",
      "573.1892261386434 1584.2200626784215 421.048095327714 12.830787210952499\n",
      "389.4186195363073 149.44453873222574 1222.3731744385987 12.12538609232824\n",
      "652.1612911709875 1842.3110919432631 420.76654410509315 12.079257767548908\n",
      "389.41405983208364 149.39028919745255 961.2472369014313 11.53265247410817\n",
      "497.18872282770775 976.5392861986745 526.7570236486469 11.12269850402762\n",
      "592.4366200235901 190.6388209555026 818.6630393874945 10.971662830840046\n",
      "61.000000000032585 373.47557091238224 433.2463298200491 10.817031070195627\n"
     ]
    }
   ],
   "source": [
    "solns = indexer.getSolutions()\n",
    "\n",
    "for sln in solns:\n",
    "    fit_uc, score = sln\n",
    "    ch = nsx.CellCharacter(fit_uc.metric())\n",
    "    print(ch.a, ch.b, ch.c, score)"
   ]
  },
  {
   "cell_type": "code",
   "execution_count": null,
   "metadata": {},
   "outputs": [],
   "source": []
  },
  {
   "cell_type": "code",
   "execution_count": 21,
   "metadata": {},
   "outputs": [
    {
     "name": "stdout",
     "output_type": "stream",
     "text": [
      "[[-0.05263158 -0.26315789  0.42105263]\n",
      " [-0.15789474  0.21052632  0.26315789]\n",
      " [ 0.21052632  0.05263158  0.31578947]]\n"
     ]
    },
    {
     "data": {
      "text/plain": [
       "-19.00000000000473"
      ]
     },
     "execution_count": 21,
     "metadata": {},
     "output_type": "execute_result"
    }
   ],
   "source": [
    "COB = np.linalg.inv(solns[3][0].basis()).dot(uc.basis())\n",
    "print(COB)\n",
    "1.0 / np.linalg.det(COB)"
   ]
  },
  {
   "cell_type": "code",
   "execution_count": 22,
   "metadata": {},
   "outputs": [
    {
     "name": "stdout",
     "output_type": "stream",
     "text": [
      "[[-30.0511449  -35.88037471 -14.07981417]\n",
      " [-27.67141304  39.0075812  -12.82394303]\n",
      " [-13.42466351  -0.08555536  57.95088712]]\n",
      "[[-30.0511449  -35.88037471 -14.07981417]\n",
      " [-27.67141304  39.0075812  -12.82394303]\n",
      " [-13.42466351  -0.08555536  57.95088712]]\n"
     ]
    }
   ],
   "source": [
    "print(solns[0][0].niggliBasis())\n",
    "print(solns[0][0].basis())"
   ]
  },
  {
   "cell_type": "code",
   "execution_count": 23,
   "metadata": {},
   "outputs": [
    {
     "data": {
      "text/plain": [
       "0.7410670040623855"
      ]
     },
     "execution_count": 23,
     "metadata": {},
     "output_type": "execute_result"
    }
   ],
   "source": [
    "im.mean()"
   ]
  },
  {
   "cell_type": "code",
   "execution_count": 24,
   "metadata": {},
   "outputs": [
    {
     "data": {
      "image/png": "[encoded data removed]",
      "text/plain": [
       "<Figure size 1440x720 with 1 Axes>"
      ]
     },
     "metadata": {},
     "output_type": "display_data"
    }
   ],
   "source": [
    "in_frame = frame_peaks(10, peaks, 3)\n",
    "\n",
    "xs = []\n",
    "ys = []\n",
    "\n",
    "for peak in in_frame:\n",
    "    c = peak.getShape().center()\n",
    "    xs.append(c[0,0])\n",
    "    ys.append(c[1,0])\n",
    "\n",
    "plt.figure(figsize=(20,10))\n",
    "plt.scatter(xs, ys)\n",
    "plt.show()"
   ]
  },
  {
   "cell_type": "code",
   "execution_count": null,
   "metadata": {},
   "outputs": [],
   "source": []
  },
  {
   "cell_type": "code",
   "execution_count": null,
   "metadata": {},
   "outputs": [],
   "source": []
  },
  {
   "cell_type": "code",
   "execution_count": null,
   "metadata": {},
   "outputs": [],
   "source": []
  },
  {
   "cell_type": "code",
   "execution_count": null,
   "metadata": {},
   "outputs": [],
   "source": []
  },
  {
   "cell_type": "code",
   "execution_count": null,
   "metadata": {},
   "outputs": [],
   "source": []
  },
  {
   "cell_type": "code",
   "execution_count": 27,
   "metadata": {},
   "outputs": [],
   "source": [
    "def background():\n",
    "    return 40.0"
   ]
  },
  {
   "cell_type": "code",
   "execution_count": 28,
   "metadata": {},
   "outputs": [
    {
     "name": "stdout",
     "output_type": "stream",
     "text": [
      "0 1818.0316688888888\n",
      "1 1819.7948302222221\n",
      "2 1820.1344577777777\n",
      "3 1820.5681337777778\n",
      "4 1832.9186577777778\n",
      "Done simulating data.\n"
     ]
    }
   ],
   "source": [
    "#N = data.nFrames()\n",
    "N = 5\n",
    "delta = 0.3 # hard coded!!\n",
    "\n",
    "with h5py.File(outfile, \"w\") as f:\n",
    "    data_grp = f.create_group(\"Data\")\n",
    "    scan = f.create_group(\"Data/Scan\")\n",
    "    expr = f.create_group(\"Experiment\")\n",
    "    info = f.create_group(\"Info\")\n",
    "    \n",
    "    images = data_grp.create_dataset(\"Counts\", (N, 900, 2500,), dtype='i4', compression=\"gzip\", compression_opts=9)\n",
    "    \n",
    "    scan.create_dataset(\"Sample/chi\", (N,), dtype=\"f8\")\n",
    "    omega = scan.create_dataset(\"Sample/omega\", (N,), dtype=\"f8\")\n",
    "    scan.create_dataset(\"Sample/phi\", (N,), dtype=\"f8\")\n",
    "    \n",
    "    scan.create_dataset(\"Source/chi-mono\", (N,), dtype=\"f8\")\n",
    "    scan.create_dataset(\"Source/om-mono\", (N,), dtype=\"f8\")\n",
    "    scan.create_dataset(\"Source/phi-mono\", (N,), dtype=\"f8\")\n",
    "    scan.create_dataset(\"Source/x-mono\", (N,), dtype=\"f8\")\n",
    "    scan.create_dataset(\"Source/y-mono\", (N,), dtype=\"f8\")\n",
    "    \n",
    "    scan.create_dataset(\"Detector/2theta(gamma)\", (N,), dtype=\"f8\")\n",
    "    \n",
    "    expr.attrs.create(\"npdone\", N, dtype=\"i4\")\n",
    "    expr.attrs.create(\"monitor\", 0.0)\n",
    "    expr.attrs.create(\"wavelength\", 2.67)\n",
    "    expr.attrs.create(\"Numor\", 0, dtype=\"i4\")\n",
    "  \n",
    "    info.attrs.create(\"Instrument\", b\"BioDiff2500\")\n",
    "    \n",
    "       \n",
    "    bkg = background()\n",
    "    simulated = generate_frames(peaks, 0, N)\n",
    "        \n",
    "    for i in range(N):        \n",
    "    #for i in range(10):        \n",
    "        #simulated = generate_frame(i, peaks) + bkg\n",
    "        sim = simulated[:, :, i]\n",
    "        noise = poisson_noise(sim)        \n",
    "        sim += noise\n",
    "        sim = correct_image(sim)\n",
    "        images[i] = sim\n",
    "        omega[i] = i*delta\n",
    "        \n",
    "        print(i, images[i].mean())\n",
    "        \n",
    "            \n",
    "    f.flush()\n",
    "    f.close()\n",
    "    \n",
    "print(\"Done simulating data.\")"
   ]
  },
  {
   "cell_type": "code",
   "execution_count": null,
   "metadata": {},
   "outputs": [],
   "source": []
  },
  {
   "cell_type": "code",
   "execution_count": null,
   "metadata": {},
   "outputs": [],
   "source": []
  },
  {
   "cell_type": "code",
   "execution_count": 29,
   "metadata": {},
   "outputs": [],
   "source": [
    "simulated = generate_frames(peaks, 0, N)"
   ]
  },
  {
   "cell_type": "code",
   "execution_count": 30,
   "metadata": {},
   "outputs": [
    {
     "data": {
      "text/plain": [
       "(900, 2500, 5)"
      ]
     },
     "execution_count": 30,
     "metadata": {},
     "output_type": "execute_result"
    }
   ],
   "source": [
    "simulated.shape"
   ]
  },
  {
   "cell_type": "code",
   "execution_count": 33,
   "metadata": {},
   "outputs": [
    {
     "data": {
      "image/png": "[encoded data removed]",
      "text/plain": [
       "<Figure size 1440x720 with 1 Axes>"
      ]
     },
     "metadata": {},
     "output_type": "display_data"
    }
   ],
   "source": [
    "plt.figure(figsize=(20,10))\n",
    "plt.imshow(simulated[:,:,2])\n",
    "plt.show()"
   ]
  },
  {
   "cell_type": "code",
   "execution_count": null,
   "metadata": {},
   "outputs": [],
   "source": []
  }
 ],
 "metadata": {
  "kernelspec": {
   "display_name": "Python 3",
   "language": "python",
   "name": "python3"
  },
  "language_info": {
   "codemirror_mode": {
    "name": "ipython",
    "version": 3
   },
   "file_extension": ".py",
   "mimetype": "text/x-python",
   "name": "python",
   "nbconvert_exporter": "python",
   "pygments_lexer": "ipython3",
   "version": "3.6.5"
  }
 },
 "nbformat": 4,
 "nbformat_minor": 2
}

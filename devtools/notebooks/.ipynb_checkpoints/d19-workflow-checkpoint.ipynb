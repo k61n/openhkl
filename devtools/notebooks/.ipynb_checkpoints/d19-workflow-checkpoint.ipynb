{
 "cells": [
  {
   "cell_type": "code",
   "execution_count": 1,
   "metadata": {
    "collapsed": true
   },
   "outputs": [],
   "source": [
    "import pynsx as nsx\n",
    "import math\n",
    "import numpy as np\n",
    "from matplotlib import pyplot as plt\n",
    "from os import path\n",
    "import glob"
   ]
  },
  {
   "cell_type": "code",
   "execution_count": 2,
   "metadata": {
    "collapsed": true
   },
   "outputs": [],
   "source": [
    "def plot_I_vs_q(peak_list):\n",
    "    qs = []\n",
    "    Is = []\n",
    "    \n",
    "    for peak in peak_list:\n",
    "        q = np.linalg.norm(peak.getQ().rowVector())\n",
    "        I = peak.getCorrectedIntensity().value()\n",
    "        qs.append(q)\n",
    "        Is.append(I)\n",
    "    \n",
    "    plt.figure(figsize=(10,10))\n",
    "    plt.scatter(qs, Is)\n",
    "    plt.show()\n",
    "    \n",
    "def plot_Isigma_vs_q(peak_list):\n",
    "    qs = []\n",
    "    Is = []\n",
    "    \n",
    "    for peak in peak_list:\n",
    "        q = np.linalg.norm(peak.getQ().rowVector())\n",
    "        I = peak.getCorrectedIntensity().value()\n",
    "        sigma = peak.getCorrectedIntensity().sigma()\n",
    "        qs.append(q)\n",
    "        Is.append(I/sigma)\n",
    "    \n",
    "    plt.figure(figsize=(10,10))\n",
    "    plt.scatter(qs, Is)\n",
    "    plt.show()    \n",
    "    \n",
    "def plot_dq_vs_frame(peak_list):\n",
    "    dqs = []\n",
    "    frames = []\n",
    "    \n",
    "    for i in range(len(peak_list)):\n",
    "        peak = peak_list[i]\n",
    "        obs_q = peak.getQ().rowVector()\n",
    "        uc = peak.activeUnitCell()\n",
    "        bu = uc.reciprocalBasis()\n",
    "        hkl = uc.getIntegerMillerIndices(peak.getQ()).rowVector()\n",
    "        pred_q = hkl.dot(bu)\n",
    "        assert(pred_q.shape == obs_q.shape)\n",
    "        dq = np.linalg.norm(pred_q-obs_q)\n",
    "        \n",
    "        dqs.append(dq)\n",
    "        frames.append(peak.getShape().center()[2])\n",
    "        \n",
    "    plt.figure(figsize=(10,10))\n",
    "    plt.scatter(frames, dqs)\n",
    "    plt.show()\n",
    "    \n",
    "def plot_dx_vs_frame(peak_list, outlier=20):\n",
    "    dxs = []\n",
    "    frames = []\n",
    "    \n",
    "    for i in range(len(peak_list)):\n",
    "        peak = peak_list[i]\n",
    "        obs_x = peak.getShape().center()\n",
    "        uc = peak.activeUnitCell()\n",
    "        bu = uc.reciprocalBasis()\n",
    "        hkl = uc.getIntegerMillerIndices(peak.getQ()).rowVector()\n",
    "        pred_q = hkl.dot(bu)\n",
    "        \n",
    "        predictor = nsx.PeakPredictor(peak.data())\n",
    "        ellipsoid = nsx.Ellipsoid(pred_q.transpose(), 100.0*np.identity(3)) \n",
    "        \n",
    "        #hkls = nsx.MillerIndexList()\n",
    "        #hkls.push_back()\n",
    "  \n",
    "        #print(hkl)\n",
    "        preds = predictor.predictPeaks([nsx.MillerIndex(int(hkl[0,0]), int(hkl[0,1]), int(hkl[0,2]))], uc.reciprocalBasis())\n",
    "            \n",
    "        if len(preds) != 1:\n",
    "            peak.setSelected(False)\n",
    "            continue\n",
    "            \n",
    "        dx = np.linalg.norm(obs_x - preds[0].getShape().center())\n",
    "        \n",
    "        if (dx > outlier):\n",
    "            peak.setSelected(False)\n",
    "            continue\n",
    "        \n",
    "        dxs.append(dx)\n",
    "        frames.append(peak.getShape().center()[2])\n",
    "\n",
    "        \n",
    "    print(\"npred\", len(dxs))\n",
    "    plt.figure(figsize=(10,10))\n",
    "    plt.scatter(frames, dxs)\n",
    "    plt.show()\n",
    "    \n",
    "def find_batch(peak, batches):\n",
    "    z = peak.getShape().center()[2,0]\n",
    "    \n",
    "    for b in batches:\n",
    "        if b.contains(z):\n",
    "            return b\n",
    "        \n",
    "    return None\n",
    "    \n",
    "def reindex(peak_list, batches):          \n",
    "    new_peaks = []\n",
    "    \n",
    "    for peak in peak_list:\n",
    "        \n",
    "        batch = find_batch(peak, batches)\n",
    "        \n",
    "        if batch is None:\n",
    "            continue\n",
    "        \n",
    "        hkl = np.array([[0.,0.,0.]])\n",
    "        uc = batch.cell()\n",
    "        \n",
    "        if uc.getMillerIndices(peak.getQ(), hkl):\n",
    "            peak.addUnitCell(uc, True)\n",
    "            new_peaks.append(peak)\n",
    "            \n",
    "    return new_peaks\n",
    "\n",
    "def compute_statistics(peak_list, group, friedel):\n",
    "    merged = nsx.MergedData(group, friedel)\n",
    "    for peak in peak_list:\n",
    "        if peak.isSelected():\n",
    "            merged.addPeak(peak)\n",
    "            \n",
    "    r = nsx.RFactor()\n",
    "    cc = nsx.CC()\n",
    "    \n",
    "    r.calculate(merged)\n",
    "    cc.calculate(merged)\n",
    "    \n",
    "    stats = {}\n",
    "    stats['CChalf'] = cc.CChalf()\n",
    "    stats['CCtrue'] = cc.CCstar()\n",
    "    stats['Rmeas'] = r.Rmeas()\n",
    "    stats['Rmerge'] = r.Rmerge()\n",
    "    stats['Rpim'] = r.Rpim()\n",
    "    \n",
    "    return stats\n",
    "\n",
    "def num_selected_peaks(peaks):\n",
    "    num_selected = 0\n",
    "    \n",
    "    for peak in peaks:\n",
    "        if peak.isSelected():\n",
    "            num_selected += 1\n",
    "            \n",
    "    return num_selected\n",
    "    \n",
    "def filter_peaks(peaks):\n",
    "    for peak in peaks:\n",
    "        if not peak.isSelected():\n",
    "            continue\n",
    "            \n",
    "        if peak.pValue() > 1e-3:\n",
    "            peak.setSelected(False)\n",
    "            continue\n",
    "            \n",
    "        d = 1.0 / np.linalg.norm(peak.getQ())\n",
    "        \n",
    "        if d > 50.0 or d < 2.1:\n",
    "            peak.setSelected(False)\n",
    "            continue\n",
    "            \n",
    "        profile = nsx.Profile()\n",
    "        \n",
    "        if profile.fit(peak.getIntegration().getProjectionPeak()) == False:\n",
    "            peak.setSelected(False)\n",
    "            continue\n",
    "        \n",
    "def remove_deselected(data):\n",
    "    peaks = data.getPeaks()\n",
    "    \n",
    "    for peak in peaks:\n",
    "        if not peak.isSelected():\n",
    "            data.removePeak(peak)"
   ]
  },
  {
   "cell_type": "code",
   "execution_count": 5,
   "metadata": {
    "collapsed": true
   },
   "outputs": [],
   "source": [
    "expt = nsx.Experiment('test', 'D19')\n",
    "diff = expt.getDiffractometer()\n",
    "\n",
    "data_dir = path.expanduser(\"~/data/d19/reference_data/thom/y-corrected-data/\")\n",
    "data_files = glob.glob(data_dir + \"*.h5\")\n",
    "\n",
    "numors = []\n",
    "\n",
    "for f in data_files[:40]:\n",
    "    reader = nsx.HDF5DataReader(f,diff)\n",
    "    # Discard the data with a low number of frames (unlikely to be \"production\" data)\n",
    "    if (reader.getNFrames() < 900):\n",
    "        continue\n",
    "\n",
    "    # Build the dataset\n",
    "    data = nsx.DataSet(reader,diff)\n",
    "\n",
    "    # Add the data to the experiment\n",
    "    expt.addData(data)\n",
    "\n",
    "    numors.append(data)"
   ]
  },
  {
   "cell_type": "code",
   "execution_count": 7,
   "metadata": {},
   "outputs": [
    {
     "data": {
      "text/plain": [
       "<matplotlib.figure.Figure at 0x7f6983223048>"
      ]
     },
     "metadata": {},
     "output_type": "display_data"
    },
    {
     "data": {
      "text/plain": [
       "<matplotlib.figure.Figure at 0x7f69831c57f0>"
      ]
     },
     "metadata": {},
     "output_type": "display_data"
    },
    {
     "data": {
      "image/png": "[encoded data removed]",
      "text/plain": [
       "<matplotlib.figure.Figure at 0x7f69831f3c88>"
      ]
     },
     "metadata": {},
     "output_type": "display_data"
    }
   ],
   "source": [
    "plt.figure(figsize=(20,10))\n",
    "plt.imshow(np.log(1+numors[0].frame(100)))\n",
    "plt.show()\n",
    "\n",
    "nrows = numors[0].nRows()\n",
    "ncols = numors[0].nCols()"
   ]
  },
  {
   "cell_type": "code",
   "execution_count": 8,
   "metadata": {
    "collapsed": true
   },
   "outputs": [],
   "source": [
    "kernel = nsx.AnnularKernel(nrows, ncols)\n",
    "kernel_image = kernel.getKernel()\n",
    "convolver = nsx.Convolver()\n",
    "convolver.setKernel(kernel_image)"
   ]
  },
  {
   "cell_type": "code",
   "execution_count": 9,
   "metadata": {
    "collapsed": true
   },
   "outputs": [],
   "source": [
    "finder = nsx.PeakFinder()\n",
    "finder.setConvolver(convolver)\n",
    "finder.setMinComponents(30)\n",
    "finder.setMaxComponents(10000)\n",
    "finder.setIntegrationConfidence(0.98)\n",
    "finder.setSearchConfidence(0.67)\n",
    "finder.setThresholdType(1)\n",
    "finder.setThresholdValue(0.4)\n",
    "finder.setKernel(kernel)"
   ]
  },
  {
   "cell_type": "code",
   "execution_count": 14,
   "metadata": {},
   "outputs": [
    {
     "name": "stdout",
     "output_type": "stream",
     "text": [
      "1906\n"
     ]
    },
    {
     "data": {
      "text/plain": [
       "7"
      ]
     },
     "execution_count": 14,
     "metadata": {},
     "output_type": "execute_result"
    }
   ],
   "source": [
    "num_numors = len(numors)\n",
    "peaks = finder.find(numors)\n",
    "print(peaks.size())\n",
    "len(numors)"
   ]
  },
  {
   "cell_type": "code",
   "execution_count": 15,
   "metadata": {
    "collapsed": true
   },
   "outputs": [],
   "source": [
    "for peak in peaks:\n",
    "       \n",
    "    inten = peak.getCorrectedIntensity()\n",
    "    \n",
    "    if not peak.isSelected():\n",
    "        continue\n",
    "    \n",
    "    if (inten.sigma() < 1.0):\n",
    "        peak.setSelected(False)"
   ]
  },
  {
   "cell_type": "code",
   "execution_count": 12,
   "metadata": {},
   "outputs": [
    {
     "data": {
      "image/png": "[encoded data removed]",
      "text/plain": [
       "<matplotlib.figure.Figure at 0x7f697f12e748>"
      ]
     },
     "metadata": {},
     "output_type": "display_data"
    }
   ],
   "source": [
    "plot_I_vs_q(peaks)"
   ]
  },
  {
   "cell_type": "code",
   "execution_count": 13,
   "metadata": {},
   "outputs": [
    {
     "name": "stdout",
     "output_type": "stream",
     "text": [
      "1702\n"
     ]
    },
    {
     "data": {
      "image/png": "[encoded data removed]",
      "text/plain": [
       "<matplotlib.figure.Figure at 0x7f697f0501d0>"
      ]
     },
     "metadata": {},
     "output_type": "display_data"
    }
   ],
   "source": [
    "# clean up peaks\n",
    "good_peaks = []\n",
    "\n",
    "for peak in peaks:\n",
    "    I = peak.getCorrectedIntensity().value()\n",
    "    sigma = peak.getCorrectedIntensity().sigma()\n",
    "    \n",
    "    # keep only selected peaks\n",
    "    if not peak.isSelected():\n",
    "        continue\n",
    "    \n",
    "    # keep only strong peaks for autoindex\n",
    "    if I < 1.0*sigma:\n",
    "        continue\n",
    "        \n",
    "    d = 1.0 / np.linalg.norm(peak.getQ().rowVector())\n",
    "    \n",
    "    # keep peaks only in specified d range\n",
    "    if d > 10.0 or d < 0.65:\n",
    "        continue\n",
    "        \n",
    "    good_peaks.append(peak)\n",
    "    \n",
    "print(len(good_peaks))\n",
    "plot_I_vs_q(good_peaks)"
   ]
  },
  {
   "cell_type": "code",
   "execution_count": 16,
   "metadata": {},
   "outputs": [
    {
     "name": "stdout",
     "output_type": "stream",
     "text": [
      "idx:   0 --- a =   5.58  b =   5.55  c =  16.17  alpha =  90.00  beta =  96.48  gamma =  90.00 --- % indexed = 99.41\n",
      "idx:   1 --- a =   5.58  b =   5.55  c =  16.17  alpha =  90.00  beta =  96.48  gamma =  90.00 --- % indexed = 99.35\n",
      "idx:   2 --- a =   5.58  b =   5.55  c =  16.17  alpha =  90.00  beta =  96.53  gamma =  90.00 --- % indexed = 99.35\n",
      "idx:   3 --- a =   5.58  b =  11.10  c =  16.17  alpha =  90.00  beta =  96.48  gamma =  90.00 --- % indexed = 99.35\n",
      "idx:   4 --- a =   5.58  b =  16.64  c =  17.09  alpha =  71.11  beta =  83.86  gamma =  89.97 --- % indexed = 99.24\n",
      "idx:   5 --- a =   7.87  b =  12.42  c =  16.17  alpha =  92.84  beta =  94.70  gamma = 108.07 --- % indexed = 99.12\n",
      "idx:   6 --- a =  11.17  b =   5.55  c =  16.17  alpha =  90.00  beta =  96.53  gamma =  90.00 --- % indexed = 99.06\n",
      "idx:   7 --- a =  12.42  b =  12.47  c =  16.17  alpha =  84.22  beta =  87.05  gamma =  89.73 --- % indexed = 99.06\n",
      "idx:   8 --- a =   7.87  b =  15.75  c =  16.50  alpha =  80.67  beta =  80.75  gamma =  89.65 --- % indexed = 98.88\n",
      "idx:   9 --- a =  17.56  b =  18.58  c =  20.09  alpha = 114.74  beta = 104.97  gamma =  99.25 --- % indexed = 98.88\n",
      "idx:  10 --- a =  16.17  b =   5.55  c =  22.33  alpha =  90.00  beta =  96.53  gamma =  90.00 --- % indexed = 98.77\n",
      "idx:  11 --- a =   7.87  b =  16.50  c =  20.05  alpha =  97.33  beta = 100.97  gamma =  99.25 --- % indexed = 98.71\n",
      "idx:  12 --- a =   7.87  b =  16.17  c =  20.04  alpha =  93.54  beta = 100.93  gamma =  94.70 --- % indexed = 98.71\n",
      "idx:  13 --- a =   7.87  b =  17.42  c =  20.04  alpha =  67.30  beta =  79.07  gamma =  85.81 --- % indexed = 98.71\n",
      "idx:  14 --- a =  12.42  b =  16.17  c =  23.01  alpha =  83.72  beta =  77.27  gamma =  87.05 --- % indexed = 98.71\n",
      "idx:  15 --- a =  17.69  b =   5.55  c =  21.93  alpha =  90.00  beta =  67.64  gamma =  90.00 --- % indexed = 98.65\n",
      "idx:  16 --- a =  18.58  b =   5.55  c =  20.67  alpha =  90.00  beta =  69.12  gamma =  90.00 --- % indexed = 98.65\n"
     ]
    }
   ],
   "source": [
    "####################################\n",
    "# AUTO-INDEXING\n",
    "####################################\n",
    "\n",
    "indexer = nsx.AutoIndexer(nsx.ProgressHandler())\n",
    "\n",
    "for peak in good_peaks:\n",
    "    indexer.addPeak(peak)\n",
    "\n",
    "params = nsx.IndexerParameters()\n",
    "indexer.autoIndex(params)\n",
    "\n",
    "solutions = indexer.getSolutions()\n",
    "\n",
    "cell_parameters = []\n",
    "\n",
    "for idx, (uc,score) in enumerate(solutions):\n",
    "\n",
    "    a     = uc.character().a\n",
    "    b     = uc.character().b\n",
    "    c     = uc.character().c\n",
    "    alpha = np.rad2deg(uc.character().alpha)\n",
    "    beta  = np.rad2deg(uc.character().beta)\n",
    "    gamma = np.rad2deg(uc.character().gamma)\n",
    "\n",
    "    cell_parameters.append((idx,a,b,c,alpha,beta,gamma,score))\n",
    "\n",
    "    print(\"idx: {0:3d} --- a = {1:6.2f}  b = {2:6.2f}  c = {3:6.2f}  alpha = {4:6.2f}  beta = {5:6.2f}  gamma = {6:6.2f} --- % indexed = {7:5.2f}\".format(*(cell_parameters[-1])))\n"
   ]
  },
  {
   "cell_type": "code",
   "execution_count": 17,
   "metadata": {
    "collapsed": true
   },
   "outputs": [],
   "source": [
    "# take best unit cell\n",
    "uc = solutions[0][0]\n",
    "\n",
    "for peak in good_peaks:\n",
    "    peak.addUnitCell(uc, True)"
   ]
  },
  {
   "cell_type": "code",
   "execution_count": 18,
   "metadata": {},
   "outputs": [
    {
     "name": "stdout",
     "output_type": "stream",
     "text": [
      "idx:   0 --- symbol = P 2         --- % non-extincted peaks = 100.00\n",
      "idx:   1 --- symbol = P 21        --- % non-extincted peaks = 100.00\n",
      "idx:   2 --- symbol = P m         --- % non-extincted peaks = 100.00\n",
      "idx:   3 --- symbol = P c         --- % non-extincted peaks =  99.82\n",
      "idx:   4 --- symbol = P 2/m       --- % non-extincted peaks = 100.00\n",
      "idx:   5 --- symbol = P 21/m      --- % non-extincted peaks = 100.00\n",
      "idx:   6 --- symbol = P 2/c       --- % non-extincted peaks =  99.82\n",
      "idx:   7 --- symbol = P 21/c      --- % non-extincted peaks =  99.82\n"
     ]
    }
   ],
   "source": [
    "####################################\n",
    "# SPACE-GROUP\n",
    "####################################\n",
    "\n",
    "compatible_space_groups = uc.compatibleSpaceGroups()\n",
    "\n",
    "hkls = nsx.MillerIndexList()\n",
    "\n",
    "for peak in good_peaks:\n",
    "    hkls.push_back(uc.getIntegerMillerIndices(peak.getQ()))\n",
    "\n",
    "space_groups = []\n",
    "for idx,symbol in enumerate(compatible_space_groups):\n",
    "    sg = nsx.SpaceGroup(symbol)\n",
    "    space_groups.append((idx,symbol,100.0*(1.0-sg.fractionExtinct(hkls))))\n",
    "    print(\"idx: {0:3d} --- symbol = {1:10s}  --- % non-extincted peaks = {2:6.2f}\".format(*(space_groups[-1])))"
   ]
  },
  {
   "cell_type": "code",
   "execution_count": 19,
   "metadata": {},
   "outputs": [
    {
     "data": {
      "text/plain": [
       "{'CChalf': 0.8920658959337643,\n",
       " 'CCtrue': 0.971058372659813,\n",
       " 'Rmeas': 0.20566194961989673,\n",
       " 'Rmerge': 0.16076813153178107,\n",
       " 'Rpim': 0.12552789393728553}"
      ]
     },
     "execution_count": 19,
     "metadata": {},
     "output_type": "execute_result"
    }
   ],
   "source": [
    "peak_set = nsx.PeakSet()\n",
    "\n",
    "for peak in good_peaks:\n",
    "    peak_set.insert(peak)\n",
    "\n",
    "for data in numors:\n",
    "    data.integratePeaks(peak_set, 5.0, 8.0, nsx.ProgressHandler())\n",
    "    \n",
    "compute_statistics(good_peaks, nsx.SpaceGroup(\"P 21\"), True)"
   ]
  },
  {
   "cell_type": "code",
   "execution_count": 24,
   "metadata": {},
   "outputs": [
    {
     "name": "stdout",
     "output_type": "stream",
     "text": [
      "Refining parameters for dataset /home/jonathan/data/d19/reference_data/thom/y-corrected-data/125622.h5\n",
      "refinement successful: True\n",
      "Refining parameters for dataset /home/jonathan/data/d19/reference_data/thom/y-corrected-data/125562.h5\n",
      "refinement successful: True\n",
      "Refining parameters for dataset /home/jonathan/data/d19/reference_data/thom/y-corrected-data/125579.h5\n",
      "refinement successful: True\n",
      "Refining parameters for dataset /home/jonathan/data/d19/reference_data/thom/y-corrected-data/125623.h5\n",
      "refinement successful: True\n",
      "Refining parameters for dataset /home/jonathan/data/d19/reference_data/thom/y-corrected-data/125571.h5\n",
      "refinement successful: True\n",
      "Refining parameters for dataset /home/jonathan/data/d19/reference_data/thom/y-corrected-data/125574.h5\n",
      "refinement successful: True\n",
      "Refining parameters for dataset /home/jonathan/data/d19/reference_data/thom/y-corrected-data/125570.h5\n",
      "refinement successful: True\n"
     ]
    }
   ],
   "source": [
    "#################\n",
    "# Refinement\n",
    "#################\n",
    "refinements = []\n",
    "\n",
    "for data in numors:\n",
    "    print(\"Refining parameters for dataset\", data.filename())\n",
    "    nbatches = 1\n",
    "    states = data.instrumentStates()\n",
    "    \n",
    "    # testing\n",
    "    #B = uc.reciprocalBasis()\n",
    "    #dB = np.random.rand(3,3) * 0.01 * np.linalg.norm(B)\n",
    "    #uc.setReciprocalBasis(B+dB)\n",
    "    \n",
    "    data_peaks = []\n",
    "    \n",
    "    for peak in good_peaks:\n",
    "        if peak.data().filename() == data.filename():\n",
    "            data_peaks.append(peak)\n",
    "            \n",
    "    #print(len(data_peaks))\n",
    "    \n",
    "    refiner = nsx.Refiner(uc, data_peaks, nbatches)\n",
    "    \n",
    "    if (len(data_peaks) < 20):\n",
    "        print(\"Too few peaks; skipping\")\n",
    "    \n",
    "    #refiner.refineSamplePosition(states)\n",
    "    #refiner.refineKi(states)\n",
    "    #refiner.refineSampleOrientation(states)\n",
    "    \n",
    "    #refiner.refineU()\n",
    "    refiner.refineB()\n",
    "    \n",
    "    success = refiner.refine(200)\n",
    "    \n",
    "    refinements.append([data, refiner, success])\n",
    "    print(\"refinement successful:\", success)\n",
    "    \n",
    "#refiner.refineU()\n",
    "    \n"
   ]
  },
  {
   "cell_type": "code",
   "execution_count": 27,
   "metadata": {
    "collapsed": true
   },
   "outputs": [],
   "source": [
    "def predict_peaks(reference_peaks, data, dmin, dmax, B, batches):    \n",
    "    pred = nsx.PeakPredictor(data)\n",
    "    qshape = pred.averageQShape(reference_peaks)\n",
    "    wavelength = data.diffractometer().source().getSelectedMonochromator().getWavelength()    \n",
    "    hkls = uc.generateReflectionsInShell(dmin, dmax, wavelength)       \n",
    "    prediction = pred.predictPeaks(hkls, B)\n",
    "    \n",
    "    good_pred = []\n",
    "    \n",
    "    for batch in batches:\n",
    "        bcell = batch.cell()\n",
    "        preds = pred.predictPeaks(hkls, bcell.reciprocalBasis())\n",
    "        \n",
    "        for p in preds:\n",
    "            if not batch.contains(p.getShape().center()[2,0]):\n",
    "                continue\n",
    "                \n",
    "            hkl = np.array([[0.,0.,0.]])\n",
    "            \n",
    "            if not bcell.getMillerIndices(p.getQ(), hkl):\n",
    "                continue\n",
    "                \n",
    "            q = hkl.dot(bcell.reciprocalBasis())\n",
    "            shape = nsx.Ellipsoid(q.transpose(), qshape)\n",
    "            try:\n",
    "                shape = pred.toDetectorSpace(shape)\n",
    "            except:\n",
    "                continue\n",
    "                \n",
    "            p.setShape(shape)                \n",
    "            p.addUnitCell(bcell, True)\n",
    "            good_pred.append(p)\n",
    "    \n",
    "    return good_pred\n"
   ]
  },
  {
   "cell_type": "code",
   "execution_count": 28,
   "metadata": {},
   "outputs": [
    {
     "name": "stdout",
     "output_type": "stream",
     "text": [
      "Prediced 273 peaks\n",
      "Prediced 329 peaks\n",
      "Prediced 225 peaks\n",
      "Prediced 266 peaks\n",
      "Prediced 326 peaks\n",
      "Prediced 325 peaks\n",
      "Prediced 262 peaks\n",
      "Total predicted peaks: 2006\n"
     ]
    }
   ],
   "source": [
    "predicted = []\n",
    "\n",
    "for r in refinements:\n",
    "    data, refiner, success = r\n",
    "    preds = predict_peaks(good_peaks, data, 0.65, 10.0, uc.reciprocalBasis(), refiner.batches())\n",
    "    print(\"Prediced\", len(preds), \"peaks\")\n",
    "    predicted.extend(preds)\n",
    "    \n",
    "print(\"Total predicted peaks:\", len(predicted))"
   ]
  },
  {
   "cell_type": "code",
   "execution_count": 29,
   "metadata": {},
   "outputs": [
    {
     "data": {
      "text/plain": [
       "{'CChalf': 0.9483963370637594,\n",
       " 'CCtrue': 0.9866685370044376,\n",
       " 'Rmeas': 0.12472232810624768,\n",
       " 'Rmerge': 0.09629617575269343,\n",
       " 'Rpim': 0.07795963591955618}"
      ]
     },
     "execution_count": 29,
     "metadata": {},
     "output_type": "execute_result"
    }
   ],
   "source": [
    "peak_set = nsx.PeakSet()\n",
    "\n",
    "for peak in predicted:\n",
    "    peak.setSelected(True)\n",
    "    peak_set.insert(peak)\n",
    "\n",
    "for data in numors:\n",
    "    data.integratePeaks(peak_set, 5.5, 10.0, nsx.ProgressHandler())\n",
    "    \n",
    "compute_statistics(predicted, nsx.SpaceGroup(\"P 21\"), True)"
   ]
  },
  {
   "cell_type": "code",
   "execution_count": null,
   "metadata": {
    "collapsed": true
   },
   "outputs": [],
   "source": []
  },
  {
   "cell_type": "code",
   "execution_count": 30,
   "metadata": {},
   "outputs": [
    {
     "name": "stdout",
     "output_type": "stream",
     "text": [
      "   dmin     dmax     Rmeas    Rmerge   Rpim     CChalf   CCtrue\n",
      "   0.650    0.673    0.063    0.052    0.035    0.994    0.998\n",
      "   0.673    0.700    0.096    0.076    0.058    0.965    0.991\n",
      "   0.700    0.732    0.246    0.175    0.174    0.588    0.861\n",
      "   0.732    0.771    0.083    0.067    0.049    0.994    0.998\n",
      "   0.771    0.819    0.127    0.093    0.086    0.769    0.932\n",
      "   0.819    0.882    0.237    0.187    0.144    0.885    0.969\n",
      "   0.882    0.971    0.190    0.143    0.125    0.827    0.952\n",
      "   0.971    1.111    0.154    0.116    0.101    0.945    0.986\n",
      "   1.111    1.398    0.153    0.117    0.098    0.938    0.984\n",
      "   1.398    8.100    0.072    0.057    0.042    0.976    0.994\n"
     ]
    }
   ],
   "source": [
    "nshells = 10\n",
    "dmin = 0.65\n",
    "dmax = 8.1\n",
    "\n",
    "shells = nsx.ResolutionShell(dmin, dmax, nshells)\n",
    "stats = []\n",
    "\n",
    "for peak in predicted:\n",
    "    shells.addPeak(peak)\n",
    "    \n",
    "for i in range(nshells):\n",
    "    shell = shells.shell(i)\n",
    "    stats.append(compute_statistics(shell, nsx.SpaceGroup(\"P 21\"), True))\n",
    "   \n",
    "def print_stats():    \n",
    "    print(\"   dmin     dmax     Rmeas    Rmerge   Rpim     CChalf   CCtrue\")\n",
    "    d = shells.getD()\n",
    "\n",
    "    for i,s in enumerate(stats):\n",
    "        \n",
    "        fmt = \"{0:8.3f} {1:8.3f} {2:8.3f} {3:8.3f} {4:8.3f} {5:8.3f} {6:8.3f}\"\n",
    "        print(fmt.format(d[i], d[i+1], s[\"Rmeas\"], s[\"Rmerge\"], s[\"Rpim\"], s[\"CChalf\"], s[\"CCtrue\"]))\n",
    "    \n",
    "print_stats()"
   ]
  },
  {
   "cell_type": "code",
   "execution_count": 31,
   "metadata": {},
   "outputs": [
    {
     "ename": "AttributeError",
     "evalue": "'DataSet' object has no attribute 'getInterpolatedState'",
     "output_type": "error",
     "traceback": [
      "\u001b[0;31m---------------------------------------------------------------------------\u001b[0m",
      "\u001b[0;31mAttributeError\u001b[0m                            Traceback (most recent call last)",
      "\u001b[0;32m<ipython-input-31-b936a108ae3b>\u001b[0m in \u001b[0;36m<module>\u001b[0;34m()\u001b[0m\n\u001b[1;32m      6\u001b[0m     \u001b[0minten\u001b[0m \u001b[0;34m=\u001b[0m \u001b[0mp\u001b[0m\u001b[0;34m.\u001b[0m\u001b[0mgetCorrectedIntensity\u001b[0m\u001b[0;34m(\u001b[0m\u001b[0;34m)\u001b[0m\u001b[0;34m\u001b[0m\u001b[0m\n\u001b[1;32m      7\u001b[0m \u001b[0;34m\u001b[0m\u001b[0m\n\u001b[0;32m----> 8\u001b[0;31m     \u001b[0mstate\u001b[0m \u001b[0;34m=\u001b[0m \u001b[0mp\u001b[0m\u001b[0;34m.\u001b[0m\u001b[0mdata\u001b[0m\u001b[0;34m(\u001b[0m\u001b[0;34m)\u001b[0m\u001b[0;34m.\u001b[0m\u001b[0mgetInterpolatedState\u001b[0m\u001b[0;34m(\u001b[0m\u001b[0mp\u001b[0m\u001b[0;34m.\u001b[0m\u001b[0mgetShape\u001b[0m\u001b[0;34m(\u001b[0m\u001b[0;34m)\u001b[0m\u001b[0;34m.\u001b[0m\u001b[0mcenter\u001b[0m\u001b[0;34m(\u001b[0m\u001b[0;34m)\u001b[0m\u001b[0;34m[\u001b[0m\u001b[0;36m2\u001b[0m\u001b[0;34m,\u001b[0m\u001b[0;36m0\u001b[0m\u001b[0;34m]\u001b[0m\u001b[0;34m)\u001b[0m\u001b[0;34m\u001b[0m\u001b[0m\n\u001b[0m\u001b[1;32m      9\u001b[0m     \u001b[0mqs\u001b[0m\u001b[0;34m.\u001b[0m\u001b[0mappend\u001b[0m\u001b[0;34m(\u001b[0m\u001b[0mnp\u001b[0m\u001b[0;34m.\u001b[0m\u001b[0mlinalg\u001b[0m\u001b[0;34m.\u001b[0m\u001b[0mnorm\u001b[0m\u001b[0;34m(\u001b[0m\u001b[0mp\u001b[0m\u001b[0;34m.\u001b[0m\u001b[0mgetQ\u001b[0m\u001b[0;34m(\u001b[0m\u001b[0;34m)\u001b[0m\u001b[0;34m.\u001b[0m\u001b[0mrowVector\u001b[0m\u001b[0;34m(\u001b[0m\u001b[0;34m)\u001b[0m\u001b[0;34m)\u001b[0m\u001b[0;34m)\u001b[0m\u001b[0;34m\u001b[0m\u001b[0m\n\u001b[1;32m     10\u001b[0m \u001b[0;34m\u001b[0m\u001b[0m\n",
      "\u001b[0;32m~/git/nsxtool/build/swig/pynsx.py\u001b[0m in \u001b[0;36m<lambda>\u001b[0;34m(self, name)\u001b[0m\n\u001b[1;32m   3505\u001b[0m     \u001b[0m__setattr__\u001b[0m \u001b[0;34m=\u001b[0m \u001b[0;32mlambda\u001b[0m \u001b[0mself\u001b[0m\u001b[0;34m,\u001b[0m \u001b[0mname\u001b[0m\u001b[0;34m,\u001b[0m \u001b[0mvalue\u001b[0m\u001b[0;34m:\u001b[0m \u001b[0m_swig_setattr\u001b[0m\u001b[0;34m(\u001b[0m\u001b[0mself\u001b[0m\u001b[0;34m,\u001b[0m \u001b[0mDataSet\u001b[0m\u001b[0;34m,\u001b[0m \u001b[0mname\u001b[0m\u001b[0;34m,\u001b[0m \u001b[0mvalue\u001b[0m\u001b[0;34m)\u001b[0m\u001b[0;34m\u001b[0m\u001b[0m\n\u001b[1;32m   3506\u001b[0m     \u001b[0m__swig_getmethods__\u001b[0m \u001b[0;34m=\u001b[0m \u001b[0;34m{\u001b[0m\u001b[0;34m}\u001b[0m\u001b[0;34m\u001b[0m\u001b[0m\n\u001b[0;32m-> 3507\u001b[0;31m     \u001b[0m__getattr__\u001b[0m \u001b[0;34m=\u001b[0m \u001b[0;32mlambda\u001b[0m \u001b[0mself\u001b[0m\u001b[0;34m,\u001b[0m \u001b[0mname\u001b[0m\u001b[0;34m:\u001b[0m \u001b[0m_swig_getattr\u001b[0m\u001b[0;34m(\u001b[0m\u001b[0mself\u001b[0m\u001b[0;34m,\u001b[0m \u001b[0mDataSet\u001b[0m\u001b[0;34m,\u001b[0m \u001b[0mname\u001b[0m\u001b[0;34m)\u001b[0m\u001b[0;34m\u001b[0m\u001b[0m\n\u001b[0m\u001b[1;32m   3508\u001b[0m     \u001b[0m__repr__\u001b[0m \u001b[0;34m=\u001b[0m \u001b[0m_swig_repr\u001b[0m\u001b[0;34m\u001b[0m\u001b[0m\n\u001b[1;32m   3509\u001b[0m \u001b[0;34m\u001b[0m\u001b[0m\n",
      "\u001b[0;32m~/git/nsxtool/build/swig/pynsx.py\u001b[0m in \u001b[0;36m_swig_getattr\u001b[0;34m(self, class_type, name)\u001b[0m\n\u001b[1;32m     78\u001b[0m     \u001b[0;32mif\u001b[0m \u001b[0mmethod\u001b[0m\u001b[0;34m:\u001b[0m\u001b[0;34m\u001b[0m\u001b[0m\n\u001b[1;32m     79\u001b[0m         \u001b[0;32mreturn\u001b[0m \u001b[0mmethod\u001b[0m\u001b[0;34m(\u001b[0m\u001b[0mself\u001b[0m\u001b[0;34m)\u001b[0m\u001b[0;34m\u001b[0m\u001b[0m\n\u001b[0;32m---> 80\u001b[0;31m     \u001b[0;32mraise\u001b[0m \u001b[0mAttributeError\u001b[0m\u001b[0;34m(\u001b[0m\u001b[0;34m\"'%s' object has no attribute '%s'\"\u001b[0m \u001b[0;34m%\u001b[0m \u001b[0;34m(\u001b[0m\u001b[0mclass_type\u001b[0m\u001b[0;34m.\u001b[0m\u001b[0m__name__\u001b[0m\u001b[0;34m,\u001b[0m \u001b[0mname\u001b[0m\u001b[0;34m)\u001b[0m\u001b[0;34m)\u001b[0m\u001b[0;34m\u001b[0m\u001b[0m\n\u001b[0m\u001b[1;32m     81\u001b[0m \u001b[0;34m\u001b[0m\u001b[0m\n\u001b[1;32m     82\u001b[0m \u001b[0;34m\u001b[0m\u001b[0m\n",
      "\u001b[0;31mAttributeError\u001b[0m: 'DataSet' object has no attribute 'getInterpolatedState'"
     ]
    }
   ],
   "source": [
    "good_predicted = []\n",
    "lors = []\n",
    "qs = []\n",
    "\n",
    "for p in predicted:\n",
    "    inten = p.getCorrectedIntensity()\n",
    "    \n",
    "    state = p.data().getInterpolatedState(p.getShape().center()[2,0])\n",
    "    qs.append(np.linalg.norm(p.getQ().rowVector()))\n",
    "    \n",
    "    # integration failure\n",
    "    if inten.sigma() < 1.0:\n",
    "        continue\n",
    "        \n",
    "    good_predicted.append(p)\n",
    "\n",
    "plot_I_vs_q(good_predicted)\n",
    "plot_Isigma_vs_q(good_predicted)\n"
   ]
  },
  {
   "cell_type": "code",
   "execution_count": 21,
   "metadata": {},
   "outputs": [
    {
     "name": "stdout",
     "output_type": "stream",
     "text": [
      " n      dmin     dmax     Rmeas    Rmerge   Rpim     CChalf   CCtrue\n",
      "  72    0.650    0.673    0.047    0.040    0.025    0.998    0.999\n",
      " 137    0.673    0.700    0.081    0.063    0.050    0.961    0.990\n",
      " 137    0.700    0.732    0.036    0.026    0.025    0.998    0.999\n",
      " 150    0.732    0.771    0.025    0.019    0.016    0.999    1.000\n",
      " 147    0.771    0.819    0.035    0.028    0.021    0.994    0.999\n",
      " 188    0.819    0.882    0.050    0.040    0.031    0.996    0.999\n",
      " 183    0.882    0.971    0.033    0.026    0.021    0.999    1.000\n",
      " 219    0.971    1.111    0.035    0.027    0.022    0.999    1.000\n",
      " 223    1.111    1.398    0.050    0.038    0.032    0.989    0.997\n",
      " 360    1.398    8.100    0.039    0.032    0.022    0.997    0.999\n",
      "Total peaks 1816\n"
     ]
    }
   ],
   "source": [
    "nshells = 10\n",
    "dmin = 0.65\n",
    "dmax = 8.1\n",
    "\n",
    "shells = nsx.ResolutionShell(dmin, dmax, nshells)\n",
    "stats = []\n",
    "\n",
    "for peak in good_predicted:\n",
    "    shells.addPeak(peak)\n",
    "    \n",
    "for i in range(nshells):\n",
    "    shell = shells.shell(i)\n",
    "    stats.append(compute_statistics(shell, nsx.SpaceGroup(\"P 21\"), True))\n",
    "       \n",
    "def print_stats():    \n",
    "    print(\" n      dmin     dmax     Rmeas    Rmerge   Rpim     CChalf   CCtrue\")\n",
    "    d = shells.getD()\n",
    "\n",
    "    for i,s in enumerate(stats):\n",
    "        \n",
    "        fmt = \"{0:4d} {1:8.3f} {2:8.3f} {3:8.3f} {4:8.3f} {5:8.3f} {6:8.3f} {7:8.3f}\"\n",
    "        print(fmt.format(len(shells.shell(i)), d[i], d[i+1], s[\"Rmeas\"], s[\"Rmerge\"], s[\"Rpim\"], s[\"CChalf\"], s[\"CCtrue\"]))\n",
    "    \n",
    "print_stats()\n",
    "\n",
    "print(\"Total peaks\", len(good_predicted))"
   ]
  },
  {
   "cell_type": "code",
   "execution_count": 22,
   "metadata": {},
   "outputs": [
    {
     "name": "stdout",
     "output_type": "stream",
     "text": [
      "0.6588533554610129\n",
      "8.048552799669867\n"
     ]
    }
   ],
   "source": [
    "d = []\n",
    "for p in good_predicted:\n",
    "    d.append(1.0 / np.linalg.norm(p.getQ().rowVector()))\n",
    "    \n",
    "print(min(d))\n",
    "print(max(d))"
   ]
  },
  {
   "cell_type": "code",
   "execution_count": 23,
   "metadata": {
    "collapsed": true
   },
   "outputs": [],
   "source": [
    "bad_ex = None\n",
    "good_ex = None\n",
    "\n",
    "for peak in predicted:\n",
    "    if not peak.isSelected():\n",
    "        continue\n",
    "        \n",
    "    inten = peak.getCorrectedIntensity()\n",
    "    sigma = inten.sigma()\n",
    "    \n",
    "    if bad_ex is None and sigma < 1.0:\n",
    "        bad_ex = peak\n",
    "        \n",
    "    if good_ex is None and sigma > 100.0:\n",
    "        good_ex = peak\n",
    "        \n",
    "    if not (bad_ex is None) and not (good_ex is None):\n",
    "        break"
   ]
  },
  {
   "cell_type": "code",
   "execution_count": 24,
   "metadata": {},
   "outputs": [
    {
     "name": "stdout",
     "output_type": "stream",
     "text": [
      "[[594.71198013 203.64021195 477.07754402]]\n",
      "\n",
      "[[ 0.6584799   0.01024104 -0.36422915]\n",
      " [ 0.01024104  0.20421119 -0.02064606]\n",
      " [-0.36422915 -0.02064606  0.25054007]]\n"
     ]
    }
   ],
   "source": [
    "print(bad_ex.getShape().center().transpose())\n",
    "print()\n",
    "print(bad_ex.getShape().metric())"
   ]
  },
  {
   "cell_type": "code",
   "execution_count": 25,
   "metadata": {},
   "outputs": [
    {
     "name": "stdout",
     "output_type": "stream",
     "text": [
      "[[617.01842975 146.18666262   8.11674371]]\n",
      "\n",
      "[[ 0.59524797  0.00672564 -0.30603161]\n",
      " [ 0.00672564  0.21379281 -0.00661441]\n",
      " [-0.30603161 -0.00661441  0.20792051]]\n"
     ]
    }
   ],
   "source": [
    "print(good_ex.getShape().center().transpose())\n",
    "print()\n",
    "print(good_ex.getShape().metric())"
   ]
  },
  {
   "cell_type": "code",
   "execution_count": 26,
   "metadata": {},
   "outputs": [
    {
     "name": "stdout",
     "output_type": "stream",
     "text": [
      "[1.07056405 5.26275508 2.21075042]\n",
      "[1.14414999 5.0388628  2.16330559]\n"
     ]
    }
   ],
   "source": [
    "print(np.sqrt(1.0 / np.linalg.eig(bad_ex.getShape().metric())[0]))\n",
    "print(np.sqrt(1.0 / np.linalg.eig(good_ex.getShape().metric())[0]))"
   ]
  },
  {
   "cell_type": "code",
   "execution_count": 27,
   "metadata": {},
   "outputs": [
    {
     "name": "stdout",
     "output_type": "stream",
     "text": [
      "/home/jonathan/data/d19/reference_data/thom/y-corrected-data/125622.h5\n"
     ]
    }
   ],
   "source": [
    "print(bad_ex.data().getFilename())"
   ]
  },
  {
   "cell_type": "code",
   "execution_count": 28,
   "metadata": {},
   "outputs": [
    {
     "data": {
      "image/png": "[encoded data removed]",
      "text/plain": [
       "<matplotlib.figure.Figure at 0x7fc42e0c6710>"
      ]
     },
     "metadata": {},
     "output_type": "display_data"
    }
   ],
   "source": [
    "plt.plot(bad_ex.getProjection())\n",
    "plt.show()"
   ]
  },
  {
   "cell_type": "code",
   "execution_count": 29,
   "metadata": {
    "collapsed": true
   },
   "outputs": [],
   "source": [
    "region = bad_ex.getIntegrationRegion()"
   ]
  },
  {
   "cell_type": "code",
   "execution_count": 39,
   "metadata": {},
   "outputs": [
    {
     "data": {
      "text/plain": [
       "array([[0.],\n",
       "       [0.],\n",
       "       [0.],\n",
       "       [0.],\n",
       "       [0.],\n",
       "       [0.],\n",
       "       [0.],\n",
       "       [0.],\n",
       "       [0.],\n",
       "       [0.],\n",
       "       [0.],\n",
       "       [0.],\n",
       "       [0.],\n",
       "       [0.],\n",
       "       [0.],\n",
       "       [0.],\n",
       "       [0.],\n",
       "       [0.],\n",
       "       [0.],\n",
       "       [0.],\n",
       "       [0.],\n",
       "       [0.],\n",
       "       [0.],\n",
       "       [0.],\n",
       "       [0.],\n",
       "       [0.],\n",
       "       [0.],\n",
       "       [0.],\n",
       "       [0.],\n",
       "       [0.],\n",
       "       [0.],\n",
       "       [0.],\n",
       "       [0.],\n",
       "       [0.],\n",
       "       [0.],\n",
       "       [0.],\n",
       "       [0.],\n",
       "       [0.],\n",
       "       [0.],\n",
       "       [0.],\n",
       "       [0.],\n",
       "       [0.],\n",
       "       [0.],\n",
       "       [0.],\n",
       "       [0.],\n",
       "       [0.],\n",
       "       [0.],\n",
       "       [0.],\n",
       "       [0.],\n",
       "       [0.],\n",
       "       [0.],\n",
       "       [0.],\n",
       "       [0.],\n",
       "       [0.],\n",
       "       [0.],\n",
       "       [0.],\n",
       "       [0.],\n",
       "       [0.],\n",
       "       [0.],\n",
       "       [0.],\n",
       "       [0.],\n",
       "       [0.],\n",
       "       [0.],\n",
       "       [0.],\n",
       "       [0.],\n",
       "       [0.],\n",
       "       [0.],\n",
       "       [0.],\n",
       "       [0.],\n",
       "       [0.],\n",
       "       [0.],\n",
       "       [0.],\n",
       "       [0.],\n",
       "       [0.],\n",
       "       [0.],\n",
       "       [0.],\n",
       "       [0.],\n",
       "       [0.],\n",
       "       [0.],\n",
       "       [0.],\n",
       "       [0.],\n",
       "       [0.],\n",
       "       [0.],\n",
       "       [0.],\n",
       "       [0.],\n",
       "       [0.],\n",
       "       [0.],\n",
       "       [0.],\n",
       "       [0.],\n",
       "       [0.],\n",
       "       [0.]])"
      ]
     },
     "execution_count": 39,
     "metadata": {},
     "output_type": "execute_result"
    }
   ],
   "source": [
    "peak.getBkgProjection()"
   ]
  },
  {
   "cell_type": "code",
   "execution_count": 31,
   "metadata": {},
   "outputs": [
    {
     "name": "stdout",
     "output_type": "stream",
     "text": [
      "1.1429182406153953\n"
     ]
    }
   ],
   "source": [
    "c = bad_ex.getShape().center()\n",
    "state = bad_ex.data().getInterpolatedState(c[2,0])\n",
    "pos = data.getDiffractometer().detector().pixelPosition(c[0,0], c[1,0])\n",
    "factor = state.lorentzFactor(pos)\n",
    "\n",
    "print(factor)"
   ]
  },
  {
   "cell_type": "code",
   "execution_count": 32,
   "metadata": {
    "collapsed": true
   },
   "outputs": [],
   "source": [
    "region = bad_ex.getIntegrationRegion()"
   ]
  },
  {
   "cell_type": "code",
   "execution_count": 38,
   "metadata": {},
   "outputs": [
    {
     "data": {
      "text/plain": [
       "3"
      ]
     },
     "execution_count": 38,
     "metadata": {},
     "output_type": "execute_result"
    }
   ],
   "source": [
    "region = nsx.IntegrationRegion(bad_ex.getIntegrationRegion())\n",
    "#help(region)\n",
    "region.bestSlice()"
   ]
  },
  {
   "cell_type": "code",
   "execution_count": 34,
   "metadata": {},
   "outputs": [
    {
     "name": "stdout",
     "output_type": "stream",
     "text": [
      "122.96136321990903\n",
      "6718.593211810288\n"
     ]
    }
   ],
   "source": [
    "print(good_ex.getCorrectedIntensity().sigma())\n",
    "print(good_ex.getCorrectedIntensity().value())"
   ]
  },
  {
   "cell_type": "code",
   "execution_count": 35,
   "metadata": {},
   "outputs": [
    {
     "name": "stdout",
     "output_type": "stream",
     "text": [
      "Help on Profile in module pynsx object:\n",
      "\n",
      "class Profile(builtins.object)\n",
      " |  Methods defined here:\n",
      " |  \n",
      " |  __del__ lambda self\n",
      " |  \n",
      " |  __getattr__ lambda self, name\n",
      " |  \n",
      " |  __init__(self, *args)\n",
      " |      Initialize self.  See help(type(self)) for accurate signature.\n",
      " |  \n",
      " |  __repr__ = _swig_repr(self)\n",
      " |  \n",
      " |  __setattr__ lambda self, name, value\n",
      " |  \n",
      " |  __swig_destroy__ = delete_Profile(...)\n",
      " |  \n",
      " |  evaluate(self, x)\n",
      " |  \n",
      " |  fit(self, y, max_iter=100)\n",
      " |  \n",
      " |  goodFit(self, y, eps)\n",
      " |  \n",
      " |  integrate(self)\n",
      " |  \n",
      " |  ----------------------------------------------------------------------\n",
      " |  Data descriptors defined here:\n",
      " |  \n",
      " |  __dict__\n",
      " |      dictionary for instance variables (if defined)\n",
      " |  \n",
      " |  __weakref__\n",
      " |      list of weak references to the object (if defined)\n",
      " |  \n",
      " |  ----------------------------------------------------------------------\n",
      " |  Data and other attributes defined here:\n",
      " |  \n",
      " |  __swig_getmethods__ = {}\n",
      " |  \n",
      " |  __swig_setmethods__ = {}\n",
      "\n"
     ]
    }
   ],
   "source": [
    "help(bad_ex.getProfile())"
   ]
  },
  {
   "cell_type": "code",
   "execution_count": 36,
   "metadata": {},
   "outputs": [
    {
     "name": "stdout",
     "output_type": "stream",
     "text": [
      "Help on IntegrationRegion in module pynsx object:\n",
      "\n",
      "class IntegrationRegion(builtins.object)\n",
      " |  Methods defined here:\n",
      " |  \n",
      " |  __del__ lambda self\n",
      " |  \n",
      " |  __getattr__ lambda self, name\n",
      " |  \n",
      " |  __init__(self, *args)\n",
      " |      Initialize self.  See help(type(self)) for accurate signature.\n",
      " |  \n",
      " |  __repr__ = _swig_repr(self)\n",
      " |  \n",
      " |  __setattr__ lambda self, name, value\n",
      " |  \n",
      " |  __swig_destroy__ = delete_IntegrationRegion(...)\n",
      " |  \n",
      " |  aabb(self)\n",
      " |  \n",
      " |  bestSlice(self)\n",
      " |  \n",
      " |  classifySlice(self, p)\n",
      " |  \n",
      " |  nslices(self)\n",
      " |  \n",
      " |  setBestSlice(self, n)\n",
      " |  \n",
      " |  updateMask(self, mask, z)\n",
      " |  \n",
      " |  ----------------------------------------------------------------------\n",
      " |  Data descriptors defined here:\n",
      " |  \n",
      " |  __dict__\n",
      " |      dictionary for instance variables (if defined)\n",
      " |  \n",
      " |  __weakref__\n",
      " |      list of weak references to the object (if defined)\n",
      " |  \n",
      " |  ----------------------------------------------------------------------\n",
      " |  Data and other attributes defined here:\n",
      " |  \n",
      " |  __swig_getmethods__ = {}\n",
      " |  \n",
      " |  __swig_setmethods__ = {}\n",
      "\n"
     ]
    }
   ],
   "source": [
    "help(bad_ex.getIntegrationRegion())"
   ]
  },
  {
   "cell_type": "code",
   "execution_count": null,
   "metadata": {
    "collapsed": true
   },
   "outputs": [],
   "source": []
  }
 ],
 "metadata": {
  "kernelspec": {
   "display_name": "Python 3",
   "language": "python",
   "name": "python3"
  },
  "language_info": {
   "codemirror_mode": {
    "name": "ipython",
    "version": 3
   },
   "file_extension": ".py",
   "mimetype": "text/x-python",
   "name": "python",
   "nbconvert_exporter": "python",
   "pygments_lexer": "ipython3",
   "version": "3.6.4"
  }
 },
 "nbformat": 4,
 "nbformat_minor": 2
}
